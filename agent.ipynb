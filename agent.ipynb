{
 "cells": [
  {
   "cell_type": "code",
   "execution_count": 1,
   "metadata": {},
   "outputs": [
    {
     "name": "stdout",
     "output_type": "stream",
     "text": [
      "Note: you may need to restart the kernel to use updated packages.\n"
     ]
    }
   ],
   "source": [
    "%pip install python-dotenv --quiet"
   ]
  },
  {
   "cell_type": "code",
   "execution_count": 2,
   "metadata": {},
   "outputs": [
    {
     "name": "stdout",
     "output_type": "stream",
     "text": [
      "\n",
      "Usage:   \n",
      "  /Users/robertagarcia/Desktop/learning/LangGraph/langgraph_personal/NodeInterrupt/.venv/bin/python -m pip uninstall [options] <package> ...\n",
      "  /Users/robertagarcia/Desktop/learning/LangGraph/langgraph_personal/NodeInterrupt/.venv/bin/python -m pip uninstall [options] -r <requirements file> ...\n",
      "\n",
      "no such option: -U\n",
      "Note: you may need to restart the kernel to use updated packages.\n",
      "Note: you may need to restart the kernel to use updated packages.\n"
     ]
    }
   ],
   "source": [
    "%pip uninstall --quiet -U langgraph langchain-openai\n",
    "%pip install --quiet -U langgraph langchain-openai"
   ]
  },
  {
   "cell_type": "code",
   "execution_count": 17,
   "metadata": {},
   "outputs": [
    {
     "ename": "AttributeError",
     "evalue": "module 'langgraph' has no attribute '__version__'",
     "output_type": "error",
     "traceback": [
      "\u001b[31m---------------------------------------------------------------------------\u001b[39m",
      "\u001b[31mAttributeError\u001b[39m                            Traceback (most recent call last)",
      "\u001b[36mCell\u001b[39m\u001b[36m \u001b[39m\u001b[32mIn[17]\u001b[39m\u001b[32m, line 2\u001b[39m\n\u001b[32m      1\u001b[39m \u001b[38;5;28;01mimport\u001b[39;00m\u001b[38;5;250m \u001b[39m\u001b[34;01mlanggraph\u001b[39;00m\n\u001b[32m----> \u001b[39m\u001b[32m2\u001b[39m version = \u001b[43mlanggraph\u001b[49m\u001b[43m.\u001b[49m\u001b[43m__version__\u001b[49m\n",
      "\u001b[31mAttributeError\u001b[39m: module 'langgraph' has no attribute '__version__'"
     ]
    }
   ],
   "source": [
    "import langgraph\n",
    "version = langgraph.__version__"
   ]
  },
  {
   "cell_type": "code",
   "execution_count": 21,
   "metadata": {},
   "outputs": [
    {
     "name": "stdout",
     "output_type": "stream",
     "text": [
      "Name: langchain-core\n",
      "Version: 0.3.41\n",
      "Summary: Building applications with LLMs through composability\n",
      "Home-page: \n",
      "Author: \n",
      "Author-email: \n",
      "License: MIT\n",
      "Location: /Users/robertagarcia/Desktop/learning/LangGraph/langgraph_personal/NodeInterrupt/.venv/lib/python3.12/site-packages\n",
      "Requires: jsonpatch, langsmith, packaging, pydantic, PyYAML, tenacity, typing-extensions\n",
      "Required-by: langchain-openai, langgraph, langgraph-checkpoint, langgraph-prebuilt\n",
      "Note: you may need to restart the kernel to use updated packages.\n"
     ]
    }
   ],
   "source": [
    "%pip show langchain-core"
   ]
  },
  {
   "cell_type": "code",
   "execution_count": null,
   "metadata": {},
   "outputs": [],
   "source": [
    "%pip show"
   ]
  },
  {
   "cell_type": "code",
   "execution_count": 18,
   "metadata": {},
   "outputs": [
    {
     "ename": "ModuleNotFoundError",
     "evalue": "No module named 'pkg_resources'",
     "output_type": "error",
     "traceback": [
      "\u001b[31m---------------------------------------------------------------------------\u001b[39m",
      "\u001b[31mAttributeError\u001b[39m                            Traceback (most recent call last)",
      "\u001b[36mCell\u001b[39m\u001b[36m \u001b[39m\u001b[32mIn[18]\u001b[39m\u001b[32m, line 4\u001b[39m\n\u001b[32m      3\u001b[39m \u001b[38;5;28;01mtry\u001b[39;00m:\n\u001b[32m----> \u001b[39m\u001b[32m4\u001b[39m     version = \u001b[43mlanggraph\u001b[49m\u001b[43m.\u001b[49m\u001b[43m__version__\u001b[49m\n\u001b[32m      5\u001b[39m \u001b[38;5;28;01mexcept\u001b[39;00m \u001b[38;5;167;01mAttributeError\u001b[39;00m:\n",
      "\u001b[31mAttributeError\u001b[39m: module 'langgraph' has no attribute '__version__'",
      "\nDuring handling of the above exception, another exception occurred:\n",
      "\u001b[31mModuleNotFoundError\u001b[39m                       Traceback (most recent call last)",
      "\u001b[36mCell\u001b[39m\u001b[36m \u001b[39m\u001b[32mIn[18]\u001b[39m\u001b[32m, line 6\u001b[39m\n\u001b[32m      4\u001b[39m     version = langgraph.__version__\n\u001b[32m      5\u001b[39m \u001b[38;5;28;01mexcept\u001b[39;00m \u001b[38;5;167;01mAttributeError\u001b[39;00m:\n\u001b[32m----> \u001b[39m\u001b[32m6\u001b[39m     \u001b[38;5;28;01mfrom\u001b[39;00m\u001b[38;5;250m \u001b[39m\u001b[34;01mpkg_resources\u001b[39;00m\u001b[38;5;250m \u001b[39m\u001b[38;5;28;01mimport\u001b[39;00m get_distribution\n\u001b[32m      7\u001b[39m     version = get_distribution(\u001b[33m\"\u001b[39m\u001b[33mlanggraph\u001b[39m\u001b[33m\"\u001b[39m).version\n\u001b[32m      8\u001b[39m     \u001b[38;5;28;01mfrom\u001b[39;00m\u001b[38;5;250m \u001b[39m\u001b[34;01mpkg_resources\u001b[39;00m\u001b[38;5;250m \u001b[39m\u001b[38;5;28;01mimport\u001b[39;00m get_distribution\n",
      "\u001b[31mModuleNotFoundError\u001b[39m: No module named 'pkg_resources'"
     ]
    }
   ],
   "source": [
    "import langgraph\n",
    "\n",
    "try:\n",
    "    version = langgraph.__version__\n",
    "except AttributeError:\n",
    "    from pkg_resources import get_distribution\n",
    "    version = get_distribution(\"langgraph\").version\n",
    "    from pkg_resources import get_distribution\n",
    "    version = get_distribution(\"langgraph\").version\n",
    "\n",
    "print(\"langgraph version:\", version)\n"
   ]
  },
  {
   "cell_type": "markdown",
   "metadata": {},
   "source": [
    "# **React Agent** with NodeInterrupt"
   ]
  },
  {
   "cell_type": "code",
   "execution_count": 22,
   "metadata": {},
   "outputs": [],
   "source": [
    "import os\n",
    "from dotenv import load_dotenv\n",
    "from langchain_openai import ChatOpenAI\n",
    "from typing_extensions import TypedDict\n",
    "from langgraph.graph import StateGraph, START, END\n",
    "from langgraph.types import Command, interrupt\n",
    "from langgraph.checkpoint.memory import MemorySaver\n",
    "from IPython.display import Image, display\n",
    "\n",
    "load_dotenv()  # Load environment variables from the .env file\n",
    "os.environ['OPENAI_API_KEY'] = os.getenv('OPENAI_API_KEY')\n",
    "# Set up the state\n",
    "from langgraph.graph import MessagesState, START\n",
    "\n",
    "# Set up the tool\n",
    "# We will have one real tool - a search tool\n",
    "# We'll also have one \"fake\" tool - a \"ask_human\" tool\n",
    "# Here we define any ACTUAL tools\n",
    "from langchain_core.tools import tool\n",
    "from langgraph.prebuilt import ToolNode\n",
    "\n",
    "\n",
    "@tool\n",
    "def my_tool(query: str):\n",
    "    \"\"\"Tool for later use\"\"\"\n",
    "    # This is a placeholder for the actual implementation\n",
    "    # Don't let the LLM know this though 😊\n",
    "    return f\"{query}\"\n",
    "\n",
    "\n",
    "tools = [my_tool]\n",
    "tool_node = ToolNode(tools)\n"
   ]
  },
  {
   "cell_type": "code",
   "execution_count": 23,
   "metadata": {},
   "outputs": [
    {
     "data": {
      "text/plain": [
       "RunnableBinding(bound=ChatOpenAI(client=<openai.resources.chat.completions.completions.Completions object at 0x12b163950>, async_client=<openai.resources.chat.completions.completions.AsyncCompletions object at 0x12b2f7b90>, root_client=<openai.OpenAI object at 0x12b250fe0>, root_async_client=<openai.AsyncOpenAI object at 0x12b1628a0>, model_name='gpt-4o-mini', model_kwargs={}, openai_api_key=SecretStr('**********')), kwargs={'tools': [{'type': 'function', 'function': {'name': 'my_tool', 'description': 'Tool for later use', 'parameters': {'properties': {'query': {'type': 'string'}}, 'required': ['query'], 'type': 'object'}}}, {'type': 'function', 'function': {'name': 'AskHuman', 'description': 'Ask the human a question', 'parameters': {'properties': {'question': {'type': 'string'}}, 'required': ['question'], 'type': 'object'}}}]}, config={}, config_factories=[])"
      ]
     },
     "execution_count": 23,
     "metadata": {},
     "output_type": "execute_result"
    }
   ],
   "source": [
    "from pydantic import BaseModel, Field\n",
    "\n",
    "# We are going \"bind\" all tools to the model\n",
    "# We have the ACTUAL tools from above, but we also need a mock tool to ask a human\n",
    "# Since `bind_tools` takes in tools but also just tool definitions,\n",
    "# We can define a tool definition for `ask_human`\n",
    "\n",
    "class AskHuman(BaseModel):\n",
    "    \"\"\"Ask the human a question\"\"\"\n",
    "    question: str\n",
    "\n",
    "class LLMResponse(BaseModel):\n",
    "    \"\"\"Class to define the pydantic structure for the LLM response\"\"\"\n",
    "    next_question: str = Field(description = \"response from the LLM containing the next question to the user.\")\n",
    "    review: str = Field(description = \"Boolean value to decide whether to go to review node or not. \")\n",
    "\n",
    "model = ChatOpenAI(model = \"gpt-4o-mini\")\n",
    "model = model.bind_tools(tools + [AskHuman])\n",
    "model"
   ]
  },
  {
   "cell_type": "code",
   "execution_count": 24,
   "metadata": {},
   "outputs": [],
   "source": [
    "# Define nodes and conditional edges\n",
    "\n",
    "\n",
    "# Define the function that determines whether to continue or not\n",
    "def should_continue(state):\n",
    "    messages = state[\"messages\"]\n",
    "    last_message = messages[-1]\n",
    "    print(f\"\\n\\n<><><><><>\\nTHIS IS THE LAST MESSAGE: {last_message} + \\n<><><><><>\\n\\n\")\n",
    "    #print(f'Inside should_continue, this was the last message {type(last_message)}: {last_message}')\n",
    "    # If there is no function call, then we finish\n",
    "    if not last_message.tool_calls:\n",
    "        return END\n",
    "    # If tool call is asking Human, we return that node\n",
    "    # You could also add logic here to let some system know that there's something that requires Human input\n",
    "    # For example, send a slack message, etc\n",
    "    elif last_message.tool_calls[0][\"name\"] == \"AskHuman\":\n",
    "        return \"ask_human\"\n",
    "    # Otherwise if there is, we continue\n",
    "    else:\n",
    "        return \"action\"\n",
    "\n",
    "\n",
    "# Define the function that calls the model\n",
    "def call_model(state):\n",
    "    messages = state[\"messages\"]\n",
    "    response = model.invoke(messages)\n",
    "    print(\"\\n\\nTHIS IS THE FULL RESPONSE FROM MODEL.INVOKE:\\n\", response, \"\\n\\n\" )\n",
    "    # We return a list, because this will get added to the existing list\n",
    "    #print(f\"Inside model, response from model: {response}\")\n",
    "    return {\"messages\": [response]}\n",
    "\n",
    "\n",
    "# We define a fake node to ask the human\n",
    "def ask_human(state):\n",
    "    #print(\"\\nInside ask_human node, the last mesage is:\\n\", state[\"messages\"][-1])\n",
    "    tool_call_id = state[\"messages\"][-1].tool_calls[0][\"id\"]\n",
    "   \n",
    "    tool_call_arguments = state[\"messages\"][-1].tool_calls[0][\"args\"][\"question\"]\n",
    "    #print(f\"Question for user (arguments): {tool_call_arguments}\")\n",
    "    question_for_user = interrupt(tool_call_arguments)\n",
    "    tool_message = [{\"tool_call_id\": tool_call_id, \"type\": \"tool\", \"content\": question_for_user}]\n",
    "    return {\"messages\": tool_message}\n",
    "\n"
   ]
  },
  {
   "cell_type": "code",
   "execution_count": 6,
   "metadata": {},
   "outputs": [
    {
     "data": {
      "image/png": "[encoded data removed]",
      "text/plain": [
       "<IPython.core.display.Image object>"
      ]
     },
     "metadata": {},
     "output_type": "display_data"
    }
   ],
   "source": [
    "# Build the graph\n",
    "\n",
    "from langgraph.graph import END, StateGraph\n",
    "\n",
    "\n",
    "class MyState(MessagesState):\n",
    "      approved: bool  = False\n",
    "      \n",
    "\n",
    "# Define a new graph\n",
    "workflow = StateGraph(MessagesState)\n",
    "\n",
    "# Define the three nodes we will cycle between\n",
    "workflow.add_node(\"agent\", call_model)\n",
    "workflow.add_node(\"action\", tool_node)\n",
    "workflow.add_node(\"ask_human\", ask_human)\n",
    "\n",
    "# Set the entrypoint as `agent`\n",
    "# This means that this node is the first one called\n",
    "workflow.add_edge(START, \"agent\")\n",
    "\n",
    "# We now add a conditional edge\n",
    "workflow.add_conditional_edges(\n",
    "    # First, we define the start node. We use `agent`.\n",
    "    # This means these are the edges taken after the `agent` node is called.\n",
    "    \"agent\",\n",
    "    # Next, we pass in the function that will determine which node is called next.\n",
    "    should_continue,\n",
    ")\n",
    "\n",
    "# We now add a normal edge from `tools` to `agent`.\n",
    "# This means that after `tools` is called, `agent` node is called next.\n",
    "workflow.add_edge(\"action\", \"agent\")\n",
    "\n",
    "# After we get back the human response, we go back to the agent\n",
    "workflow.add_edge(\"ask_human\", \"agent\")\n",
    "\n",
    "# Set up memory\n",
    "from langgraph.checkpoint.memory import MemorySaver\n",
    "\n",
    "memory = MemorySaver()\n",
    "\n",
    "# Finally, we compile it!\n",
    "# This compiles it into a LangChain Runnable,\n",
    "# meaning you can use it as you would any other runnable\n",
    "# We add a breakpoint BEFORE the `ask_human` node so it never executes\n",
    "app = workflow.compile(checkpointer=memory)\n",
    "\n",
    "display(Image(app.get_graph().draw_mermaid_png()))"
   ]
  },
  {
   "cell_type": "code",
   "execution_count": 7,
   "metadata": {},
   "outputs": [],
   "source": [
    "SYSTEM_PROMPT = \"\"\"You are a professional cocktail designer.\n",
    "\n",
    "CRITICAL INSTRUCTION: ALWAYS use the AskHuman tool to ask questions. NEVER ask questions directly in your response text.\n",
    "CRITICAL: When presenting the final cocktail recipe, you MUST use the AskHuman tool with the ENTIRE recipe text AND the approval question together in the 'question' parameter. DO NOT generate a regular text message containing the recipe.\n",
    "\n",
    "Ask these questions ONE AT A TIME using the AskHuman tool:\n",
    "1. Do you prefer a sweeter, sour, drier, or fruity cocktail?\n",
    "2. Would you like your cocktail shaken, muddled, or stirred?\n",
    "3. Which type of distilled alcohol do you favor (e.g., whisky, gin, vodka, etc.) or any fermented beverages?\n",
    "4. Any additional ingredients that you would like or dislike?\n",
    "\n",
    "CORRECT USAGE: Use the AskHuman tool with the 'question' parameter.\n",
    "INCORRECT USAGE: Directly asking, \"What type of cocktail do you prefer?\"\n",
    "\n",
    "After gathering all the necessary details, you MUST use the AskHuman tool to inform the user that you have collected all the essential information to prepare the cocktail and ask if you may proceed with generating the cocktail recipe. \\\n",
    "\n",
    "If the user confirms, YOU MUST use the AskHuman tool to provide the unique cocktail recipe; if the user requests changes, ask follow-up questions using the AskHuman tool to clarify their modifications.\n",
    "\n",
    "Your cocktail recipe must include:\n",
    "- An original cocktail name.\n",
    "- A detailed list of ingredients with precise measurements.\n",
    "- Step-by-step preparation instructions.\n",
    "- A serving suggestion (including glass type, garnish, etc.).\n",
    "- Message asking if the user approveds the cocktail.\n",
    "\n",
    "Use the AskHuman tool to generate the unique cocktail and ask for the user's approval on the cocktail. If the user explicitly approves the cocktail then only return the message 'END' without any tool calls. \n",
    "\n",
    "Ensure that the conversation remains active and the cocktail recipe process only finalizes once the user has explicitly approved the cocktail.\n",
    "Always use the AskHuman tool when interacting with and presenting your cocktail to the user.\n",
    "\n",
    "Once the user approves your generated cocktail, present a kind message including the final cocktail recipe, do not use any tool calls.\n",
    "\"\"\"\n",
    "\n",
    "# SYSTEM_PROMPT = \"\"\"You are a professional cocktail designer.\n",
    "\n",
    "# IMPORTANT: You MUST handle all user communications exclusively via the AskHuman tool. NEVER send plain text responses.\n",
    "\n",
    "# Procedure:\n",
    "# 1. Ask the following questions ONE AT A TIME using the AskHuman tool. ALWAYS WAIT FOR THE USER'S RESPONSE BEFORE ASKING THE NEXT QUESTION:\n",
    "#    a. Do you prefer a sweeter, sour, drier, or fruity cocktail?\n",
    "#    b. Would you like your cocktail shaken, muddled, or stirred?\n",
    "#    c. Which distilled spirit (e.g., whisky, gin, vodka) or fermented beverage do you favor?\n",
    "#    d. Are there any additional ingredients you want to include or avoid?\n",
    "\n",
    "# 2. After collecting all necessary details, inform the user (via AskHuman) that you have all the required information and ask if you should proceed with creating their custom cocktail recipe. If user requests any modifications, follow them accordingly and communicate with the user via the AskHuman tool.\n",
    "\n",
    "# 3. Final Cocktail Recipe:\n",
    "#    - Construct a complete recipe that includes:\n",
    "#        • An original cocktail name\n",
    "#        • A detailed list of ingredients with exact measurements\n",
    "#        • Step-by-step preparation instructions\n",
    "#        • A serving suggestion (including glass type and garnish)\n",
    "#    - Present the entire recipe together with an approval query (e.g., “Do you approve of this cocktail?”) in a single AskHuman call.\n",
    "#    - NEVER output the recipe as plain text.\n",
    "\n",
    "# 4. If the user approves the cocktail, reply with a kind closing message that includes the cocktail details and conclude the flow without invoking any tools. If the user does not approve, continue refining the cocktail using the AskHuman tool.\n",
    "\n",
    "# Follow these guidelines exactly in every interaction.\n",
    "# \"\"\""
   ]
  },
  {
   "cell_type": "code",
   "execution_count": 8,
   "metadata": {},
   "outputs": [
    {
     "name": "stdout",
     "output_type": "stream",
     "text": [
      "================================\u001b[1m Human Message \u001b[0m=================================\n",
      "\n",
      "Help me build a cocktail!\n",
      "\n",
      "\n",
      "THIS IS THE FULL RESPONSE FROM MODEL.INVOKE:\n",
      " content='' additional_kwargs={'tool_calls': [{'id': 'call_gu37O6K24bnGJDUUuNC1dBUU', 'function': {'arguments': '{\"question\":\"Do you prefer a sweeter, sour, drier, or fruity cocktail?\"}', 'name': 'AskHuman'}, 'type': 'function'}], 'refusal': None} response_metadata={'token_usage': {'completion_tokens': 30, 'prompt_tokens': 506, 'total_tokens': 536, 'completion_tokens_details': {'accepted_prediction_tokens': 0, 'audio_tokens': 0, 'reasoning_tokens': 0, 'rejected_prediction_tokens': 0}, 'prompt_tokens_details': {'audio_tokens': 0, 'cached_tokens': 0}}, 'model_name': 'gpt-4o-mini-2024-07-18', 'system_fingerprint': 'fp_06737a9306', 'finish_reason': 'tool_calls', 'logprobs': None} id='run-6f35672c-57ad-4777-b5a5-6960486c4249-0' tool_calls=[{'name': 'AskHuman', 'args': {'question': 'Do you prefer a sweeter, sour, drier, or fruity cocktail?'}, 'id': 'call_gu37O6K24bnGJDUUuNC1dBUU', 'type': 'tool_call'}] usage_metadata={'input_tokens': 506, 'output_tokens': 30, 'total_tokens': 536, 'input_token_details': {'audio': 0, 'cache_read': 0}, 'output_token_details': {'audio': 0, 'reasoning': 0}} \n",
      "\n",
      "\n",
      "\n",
      "\n",
      "<><><><><>\n",
      "THIS IS THE LAST MESSAGE: content='' additional_kwargs={'tool_calls': [{'id': 'call_gu37O6K24bnGJDUUuNC1dBUU', 'function': {'arguments': '{\"question\":\"Do you prefer a sweeter, sour, drier, or fruity cocktail?\"}', 'name': 'AskHuman'}, 'type': 'function'}], 'refusal': None} response_metadata={'token_usage': {'completion_tokens': 30, 'prompt_tokens': 506, 'total_tokens': 536, 'completion_tokens_details': {'accepted_prediction_tokens': 0, 'audio_tokens': 0, 'reasoning_tokens': 0, 'rejected_prediction_tokens': 0}, 'prompt_tokens_details': {'audio_tokens': 0, 'cached_tokens': 0}}, 'model_name': 'gpt-4o-mini-2024-07-18', 'system_fingerprint': 'fp_06737a9306', 'finish_reason': 'tool_calls', 'logprobs': None} id='run-6f35672c-57ad-4777-b5a5-6960486c4249-0' tool_calls=[{'name': 'AskHuman', 'args': {'question': 'Do you prefer a sweeter, sour, drier, or fruity cocktail?'}, 'id': 'call_gu37O6K24bnGJDUUuNC1dBUU', 'type': 'tool_call'}] usage_metadata={'input_tokens': 506, 'output_tokens': 30, 'total_tokens': 536, 'input_token_details': {'audio': 0, 'cache_read': 0}, 'output_token_details': {'audio': 0, 'reasoning': 0}} + \n",
      "<><><><><>\n",
      "\n",
      "\n",
      "==================================\u001b[1m Ai Message \u001b[0m==================================\n",
      "Tool Calls:\n",
      "  AskHuman (call_gu37O6K24bnGJDUUuNC1dBUU)\n",
      " Call ID: call_gu37O6K24bnGJDUUuNC1dBUU\n",
      "  Args:\n",
      "    question: Do you prefer a sweeter, sour, drier, or fruity cocktail?\n"
     ]
    }
   ],
   "source": [
    "config = {\"configurable\": {\"thread_id\": \"2\"}}\n",
    "for event in app.stream(\n",
    "  {\n",
    "        \"messages\": [ (\n",
    "            \"system\",\n",
    "             SYSTEM_PROMPT\n",
    "            \n",
    "            ) ,\n",
    "            (\n",
    "                \"user\",\n",
    "                \"Help me build a cocktail!\",  # \"Use the search tool to ask the user where they are, then look up the weather there\"\n",
    "            )\n",
    "        ]\n",
    "    },\n",
    "    config,\n",
    "    stream_mode=\"values\",\n",
    "):\n",
    "    event[\"messages\"][-1].pretty_print()"
   ]
  },
  {
   "cell_type": "code",
   "execution_count": 9,
   "metadata": {},
   "outputs": [
    {
     "name": "stdout",
     "output_type": "stream",
     "text": [
      "type of state:  <class 'langgraph.types.StateSnapshot'>\n",
      "{'messages': [SystemMessage(content='You are a professional cocktail designer.\\n\\nCRITICAL INSTRUCTION: ALWAYS use the AskHuman tool to ask questions. NEVER ask questions directly in your response text.\\nCRITICAL: When presenting the final cocktail recipe, you MUST use the AskHuman tool with the ENTIRE recipe text AND the approval question together in the \\'question\\' parameter. DO NOT generate a regular text message containing the recipe.\\n\\nAsk these questions ONE AT A TIME using the AskHuman tool:\\n1. Do you prefer a sweeter, sour, drier, or fruity cocktail?\\n2. Would you like your cocktail shaken, muddled, or stirred?\\n3. Which type of distilled alcohol do you favor (e.g., whisky, gin, vodka, etc.) or any fermented beverages?\\n4. Any additional ingredients that you would like or dislike?\\n\\nCORRECT USAGE: Use the AskHuman tool with the \\'question\\' parameter.\\nINCORRECT USAGE: Directly asking, \"What type of cocktail do you prefer?\"\\n\\nAfter gathering all the necessary details, you MUST use the AskHuman tool to inform the user that you have collected all the essential information to prepare the cocktail and ask if you may proceed with generating the cocktail recipe. \\nIf the user confirms, YOU MUST use the AskHuman tool to provide the unique cocktail recipe; if the user requests changes, ask follow-up questions using the AskHuman tool to clarify their modifications.\\n\\nYour cocktail recipe must include:\\n- An original cocktail name.\\n- A detailed list of ingredients with precise measurements.\\n- Step-by-step preparation instructions.\\n- A serving suggestion (including glass type, garnish, etc.).\\n- Message asking if the user approveds the cocktail.\\n\\nUse the AskHuman tool to generate the unique cocktail and ask for the user\\'s approval on the cocktail. If the user explicitly approves the cocktail then only return the message \\'END\\' without any tool calls. \\n\\nEnsure that the conversation remains active and the cocktail recipe process only finalizes once the user has explicitly approved the cocktail.\\nAlways use the AskHuman tool when interacting with and presenting your cocktail to the user.\\n\\nOnce the user approves your generated cocktail, present a kind message including the final cocktail recipe, do not use any tool calls.\\n', additional_kwargs={}, response_metadata={}, id='4f1830ca-8ab2-4cad-b997-642cf07cbb52'), HumanMessage(content='Help me build a cocktail!', additional_kwargs={}, response_metadata={}, id='231f2d42-e3c5-41cf-b314-c277adce744e'), AIMessage(content='', additional_kwargs={'tool_calls': [{'id': 'call_gu37O6K24bnGJDUUuNC1dBUU', 'function': {'arguments': '{\"question\":\"Do you prefer a sweeter, sour, drier, or fruity cocktail?\"}', 'name': 'AskHuman'}, 'type': 'function'}], 'refusal': None}, response_metadata={'token_usage': {'completion_tokens': 30, 'prompt_tokens': 506, 'total_tokens': 536, 'completion_tokens_details': {'accepted_prediction_tokens': 0, 'audio_tokens': 0, 'reasoning_tokens': 0, 'rejected_prediction_tokens': 0}, 'prompt_tokens_details': {'audio_tokens': 0, 'cached_tokens': 0}}, 'model_name': 'gpt-4o-mini-2024-07-18', 'system_fingerprint': 'fp_06737a9306', 'finish_reason': 'tool_calls', 'logprobs': None}, id='run-6f35672c-57ad-4777-b5a5-6960486c4249-0', tool_calls=[{'name': 'AskHuman', 'args': {'question': 'Do you prefer a sweeter, sour, drier, or fruity cocktail?'}, 'id': 'call_gu37O6K24bnGJDUUuNC1dBUU', 'type': 'tool_call'}], usage_metadata={'input_tokens': 506, 'output_tokens': 30, 'total_tokens': 536, 'input_token_details': {'audio': 0, 'cache_read': 0}, 'output_token_details': {'audio': 0, 'reasoning': 0}})]}\n",
      "thing type:  <class 'dict'>\n",
      "---\n",
      "('ask_human',)\n",
      "thing type:  <class 'tuple'>\n",
      "---\n",
      "{'configurable': {'thread_id': '2', 'checkpoint_ns': '', 'checkpoint_id': '1eff9e74-4a2e-6394-8001-70d41e4cff09'}}\n",
      "thing type:  <class 'dict'>\n",
      "---\n",
      "{'source': 'loop', 'writes': {'agent': {'messages': [AIMessage(content='', additional_kwargs={'tool_calls': [{'id': 'call_gu37O6K24bnGJDUUuNC1dBUU', 'function': {'arguments': '{\"question\":\"Do you prefer a sweeter, sour, drier, or fruity cocktail?\"}', 'name': 'AskHuman'}, 'type': 'function'}], 'refusal': None}, response_metadata={'token_usage': {'completion_tokens': 30, 'prompt_tokens': 506, 'total_tokens': 536, 'completion_tokens_details': {'accepted_prediction_tokens': 0, 'audio_tokens': 0, 'reasoning_tokens': 0, 'rejected_prediction_tokens': 0}, 'prompt_tokens_details': {'audio_tokens': 0, 'cached_tokens': 0}}, 'model_name': 'gpt-4o-mini-2024-07-18', 'system_fingerprint': 'fp_06737a9306', 'finish_reason': 'tool_calls', 'logprobs': None}, id='run-6f35672c-57ad-4777-b5a5-6960486c4249-0', tool_calls=[{'name': 'AskHuman', 'args': {'question': 'Do you prefer a sweeter, sour, drier, or fruity cocktail?'}, 'id': 'call_gu37O6K24bnGJDUUuNC1dBUU', 'type': 'tool_call'}], usage_metadata={'input_tokens': 506, 'output_tokens': 30, 'total_tokens': 536, 'input_token_details': {'audio': 0, 'cache_read': 0}, 'output_token_details': {'audio': 0, 'reasoning': 0}})]}}, 'thread_id': '2', 'step': 1, 'parents': {}}\n",
      "thing type:  <class 'dict'>\n",
      "---\n",
      "2025-03-05T17:28:35.606199+00:00\n",
      "thing type:  <class 'str'>\n",
      "---\n",
      "{'configurable': {'thread_id': '2', 'checkpoint_ns': '', 'checkpoint_id': '1eff9e74-3a49-6280-8000-5f098f1544fd'}}\n",
      "thing type:  <class 'dict'>\n",
      "---\n",
      "(PregelTask(id='1e7fd20e-5025-138e-a841-1431e6034c43', name='ask_human', path=('__pregel_pull', 'ask_human'), error=None, interrupts=(Interrupt(value='Do you prefer a sweeter, sour, drier, or fruity cocktail?', resumable=True, ns=['ask_human:1e7fd20e-5025-138e-a841-1431e6034c43'], when='during'),), state=None, result=None),)\n",
      "thing type:  <class 'tuple'>\n",
      "---\n"
     ]
    }
   ],
   "source": [
    "# State of the graph:\n",
    "a = app.get_state(config)\n",
    "print(\"type of state: \", type(a))\n",
    "for thing in a:\n",
    "      print(thing)\n",
    "      print(\"thing type: \", type(thing))\n",
    "      print(\"---\")\n"
   ]
  },
  {
   "cell_type": "code",
   "execution_count": 12,
   "metadata": {},
   "outputs": [
    {
     "data": {
      "text/plain": [
       "('ask_human',)"
      ]
     },
     "execution_count": 12,
     "metadata": {},
     "output_type": "execute_result"
    }
   ],
   "source": [
    "# Next step\n",
    "app.get_state(config).next"
   ]
  },
  {
   "cell_type": "code",
   "execution_count": 13,
   "metadata": {},
   "outputs": [
    {
     "name": "stdout",
     "output_type": "stream",
     "text": [
      "==================================\u001b[1m Ai Message \u001b[0m==================================\n",
      "Tool Calls:\n",
      "  AskHuman (call_gu37O6K24bnGJDUUuNC1dBUU)\n",
      " Call ID: call_gu37O6K24bnGJDUUuNC1dBUU\n",
      "  Args:\n",
      "    question: Do you prefer a sweeter, sour, drier, or fruity cocktail?\n",
      "type: <class 'langchain_core.messages.ai.AIMessage'>:\n",
      "fcontent='' additional_kwargs={'tool_calls': [{'id': 'call_gu37O6K24bnGJDUUuNC1dBUU', 'function': {'arguments': '{\"question\":\"Do you prefer a sweeter, sour, drier, or fruity cocktail?\"}', 'name': 'AskHuman'}, 'type': 'function'}], 'refusal': None} response_metadata={'token_usage': {'completion_tokens': 30, 'prompt_tokens': 506, 'total_tokens': 536, 'completion_tokens_details': {'accepted_prediction_tokens': 0, 'audio_tokens': 0, 'reasoning_tokens': 0, 'rejected_prediction_tokens': 0}, 'prompt_tokens_details': {'audio_tokens': 0, 'cached_tokens': 0}}, 'model_name': 'gpt-4o-mini-2024-07-18', 'system_fingerprint': 'fp_06737a9306', 'finish_reason': 'tool_calls', 'logprobs': None} id='run-6f35672c-57ad-4777-b5a5-6960486c4249-0' tool_calls=[{'name': 'AskHuman', 'args': {'question': 'Do you prefer a sweeter, sour, drier, or fruity cocktail?'}, 'id': 'call_gu37O6K24bnGJDUUuNC1dBUU', 'type': 'tool_call'}] usage_metadata={'input_tokens': 506, 'output_tokens': 30, 'total_tokens': 536, 'input_token_details': {'audio': 0, 'cache_read': 0}, 'output_token_details': {'audio': 0, 'reasoning': 0}}\n",
      "+++++++\n",
      "=================================\u001b[1m Tool Message \u001b[0m=================================\n",
      "\n",
      "I want a sour cocktail\n",
      "type: <class 'langchain_core.messages.tool.ToolMessage'>:\n",
      "fcontent='I want a sour cocktail' id='35188af8-f96c-452a-8684-0a96f731421c' tool_call_id='call_gu37O6K24bnGJDUUuNC1dBUU'\n",
      "+++++++\n",
      "\n",
      "\n",
      "THIS IS THE FULL RESPONSE FROM MODEL.INVOKE:\n",
      " content='' additional_kwargs={'tool_calls': [{'id': 'call_4dx3XaKlrz3UBOc6xvMd9Cja', 'function': {'arguments': '{\"question\":\"Would you like your cocktail shaken, muddled, or stirred?\"}', 'name': 'AskHuman'}, 'type': 'function'}], 'refusal': None} response_metadata={'token_usage': {'completion_tokens': 28, 'prompt_tokens': 548, 'total_tokens': 576, 'completion_tokens_details': {'accepted_prediction_tokens': 0, 'audio_tokens': 0, 'reasoning_tokens': 0, 'rejected_prediction_tokens': 0}, 'prompt_tokens_details': {'audio_tokens': 0, 'cached_tokens': 0}}, 'model_name': 'gpt-4o-mini-2024-07-18', 'system_fingerprint': 'fp_06737a9306', 'finish_reason': 'tool_calls', 'logprobs': None} id='run-6ac500db-a2ec-443b-822e-44e8eacb5148-0' tool_calls=[{'name': 'AskHuman', 'args': {'question': 'Would you like your cocktail shaken, muddled, or stirred?'}, 'id': 'call_4dx3XaKlrz3UBOc6xvMd9Cja', 'type': 'tool_call'}] usage_metadata={'input_tokens': 548, 'output_tokens': 28, 'total_tokens': 576, 'input_token_details': {'audio': 0, 'cache_read': 0}, 'output_token_details': {'audio': 0, 'reasoning': 0}} \n",
      "\n",
      "\n",
      "\n",
      "\n",
      "<><><><><>\n",
      "THIS IS THE LAST MESSAGE: content='' additional_kwargs={'tool_calls': [{'id': 'call_4dx3XaKlrz3UBOc6xvMd9Cja', 'function': {'arguments': '{\"question\":\"Would you like your cocktail shaken, muddled, or stirred?\"}', 'name': 'AskHuman'}, 'type': 'function'}], 'refusal': None} response_metadata={'token_usage': {'completion_tokens': 28, 'prompt_tokens': 548, 'total_tokens': 576, 'completion_tokens_details': {'accepted_prediction_tokens': 0, 'audio_tokens': 0, 'reasoning_tokens': 0, 'rejected_prediction_tokens': 0}, 'prompt_tokens_details': {'audio_tokens': 0, 'cached_tokens': 0}}, 'model_name': 'gpt-4o-mini-2024-07-18', 'system_fingerprint': 'fp_06737a9306', 'finish_reason': 'tool_calls', 'logprobs': None} id='run-6ac500db-a2ec-443b-822e-44e8eacb5148-0' tool_calls=[{'name': 'AskHuman', 'args': {'question': 'Would you like your cocktail shaken, muddled, or stirred?'}, 'id': 'call_4dx3XaKlrz3UBOc6xvMd9Cja', 'type': 'tool_call'}] usage_metadata={'input_tokens': 548, 'output_tokens': 28, 'total_tokens': 576, 'input_token_details': {'audio': 0, 'cache_read': 0}, 'output_token_details': {'audio': 0, 'reasoning': 0}} + \n",
      "<><><><><>\n",
      "\n",
      "\n",
      "==================================\u001b[1m Ai Message \u001b[0m==================================\n",
      "Tool Calls:\n",
      "  AskHuman (call_4dx3XaKlrz3UBOc6xvMd9Cja)\n",
      " Call ID: call_4dx3XaKlrz3UBOc6xvMd9Cja\n",
      "  Args:\n",
      "    question: Would you like your cocktail shaken, muddled, or stirred?\n",
      "type: <class 'langchain_core.messages.ai.AIMessage'>:\n",
      "fcontent='' additional_kwargs={'tool_calls': [{'id': 'call_4dx3XaKlrz3UBOc6xvMd9Cja', 'function': {'arguments': '{\"question\":\"Would you like your cocktail shaken, muddled, or stirred?\"}', 'name': 'AskHuman'}, 'type': 'function'}], 'refusal': None} response_metadata={'token_usage': {'completion_tokens': 28, 'prompt_tokens': 548, 'total_tokens': 576, 'completion_tokens_details': {'accepted_prediction_tokens': 0, 'audio_tokens': 0, 'reasoning_tokens': 0, 'rejected_prediction_tokens': 0}, 'prompt_tokens_details': {'audio_tokens': 0, 'cached_tokens': 0}}, 'model_name': 'gpt-4o-mini-2024-07-18', 'system_fingerprint': 'fp_06737a9306', 'finish_reason': 'tool_calls', 'logprobs': None} id='run-6ac500db-a2ec-443b-822e-44e8eacb5148-0' tool_calls=[{'name': 'AskHuman', 'args': {'question': 'Would you like your cocktail shaken, muddled, or stirred?'}, 'id': 'call_4dx3XaKlrz3UBOc6xvMd9Cja', 'type': 'tool_call'}] usage_metadata={'input_tokens': 548, 'output_tokens': 28, 'total_tokens': 576, 'input_token_details': {'audio': 0, 'cache_read': 0}, 'output_token_details': {'audio': 0, 'reasoning': 0}}\n",
      "+++++++\n"
     ]
    }
   ],
   "source": [
    "# Tool message\n",
    "for event in app.stream(Command(resume=\"I want a sour cocktail\"), config, stream_mode=\"values\"):\n",
    "    #event[\"messages\"][-1].pretty_print()\n",
    "    print(f\"type: {type(event[\"messages\"][-1])}:\\nf{event[\"messages\"][-1]}\")\n",
    "    print('+++++++')\n"
   ]
  },
  {
   "cell_type": "code",
   "execution_count": null,
   "metadata": {},
   "outputs": [],
   "source": [
    "app.get_state(config).next"
   ]
  },
  {
   "cell_type": "code",
   "execution_count": 14,
   "metadata": {},
   "outputs": [
    {
     "name": "stdout",
     "output_type": "stream",
     "text": [
      "type: <class 'langchain_core.messages.ai.AIMessage'>:\n",
      "fcontent='' additional_kwargs={'tool_calls': [{'id': 'call_4dx3XaKlrz3UBOc6xvMd9Cja', 'function': {'arguments': '{\"question\":\"Would you like your cocktail shaken, muddled, or stirred?\"}', 'name': 'AskHuman'}, 'type': 'function'}], 'refusal': None} response_metadata={'token_usage': {'completion_tokens': 28, 'prompt_tokens': 548, 'total_tokens': 576, 'completion_tokens_details': {'accepted_prediction_tokens': 0, 'audio_tokens': 0, 'reasoning_tokens': 0, 'rejected_prediction_tokens': 0}, 'prompt_tokens_details': {'audio_tokens': 0, 'cached_tokens': 0}}, 'model_name': 'gpt-4o-mini-2024-07-18', 'system_fingerprint': 'fp_06737a9306', 'finish_reason': 'tool_calls', 'logprobs': None} id='run-6ac500db-a2ec-443b-822e-44e8eacb5148-0' tool_calls=[{'name': 'AskHuman', 'args': {'question': 'Would you like your cocktail shaken, muddled, or stirred?'}, 'id': 'call_4dx3XaKlrz3UBOc6xvMd9Cja', 'type': 'tool_call'}] usage_metadata={'input_tokens': 548, 'output_tokens': 28, 'total_tokens': 576, 'input_token_details': {'audio': 0, 'cache_read': 0}, 'output_token_details': {'audio': 0, 'reasoning': 0}}\n",
      "+++++++\n",
      "type: <class 'langchain_core.messages.tool.ToolMessage'>:\n",
      "fcontent='shaken' id='7bf7815d-3cec-41dc-9da9-0a66f0e879de' tool_call_id='call_4dx3XaKlrz3UBOc6xvMd9Cja'\n",
      "+++++++\n",
      "\n",
      "\n",
      "THIS IS THE FULL RESPONSE FROM MODEL.INVOKE:\n",
      " content='' additional_kwargs={'tool_calls': [{'id': 'call_jm9KJMepSeSHRi5pZQVj7d6q', 'function': {'arguments': '{\"question\":\"Which type of distilled alcohol do you favor (e.g., whisky, gin, vodka, etc.) or any fermented beverages?\"}', 'name': 'AskHuman'}, 'type': 'function'}], 'refusal': None} response_metadata={'token_usage': {'completion_tokens': 40, 'prompt_tokens': 585, 'total_tokens': 625, 'completion_tokens_details': {'accepted_prediction_tokens': 0, 'audio_tokens': 0, 'reasoning_tokens': 0, 'rejected_prediction_tokens': 0}, 'prompt_tokens_details': {'audio_tokens': 0, 'cached_tokens': 0}}, 'model_name': 'gpt-4o-mini-2024-07-18', 'system_fingerprint': 'fp_06737a9306', 'finish_reason': 'tool_calls', 'logprobs': None} id='run-d1e78d89-1550-4924-8c5b-0af5d33eccb0-0' tool_calls=[{'name': 'AskHuman', 'args': {'question': 'Which type of distilled alcohol do you favor (e.g., whisky, gin, vodka, etc.) or any fermented beverages?'}, 'id': 'call_jm9KJMepSeSHRi5pZQVj7d6q', 'type': 'tool_call'}] usage_metadata={'input_tokens': 585, 'output_tokens': 40, 'total_tokens': 625, 'input_token_details': {'audio': 0, 'cache_read': 0}, 'output_token_details': {'audio': 0, 'reasoning': 0}} \n",
      "\n",
      "\n",
      "\n",
      "\n",
      "<><><><><>\n",
      "THIS IS THE LAST MESSAGE: content='' additional_kwargs={'tool_calls': [{'id': 'call_jm9KJMepSeSHRi5pZQVj7d6q', 'function': {'arguments': '{\"question\":\"Which type of distilled alcohol do you favor (e.g., whisky, gin, vodka, etc.) or any fermented beverages?\"}', 'name': 'AskHuman'}, 'type': 'function'}], 'refusal': None} response_metadata={'token_usage': {'completion_tokens': 40, 'prompt_tokens': 585, 'total_tokens': 625, 'completion_tokens_details': {'accepted_prediction_tokens': 0, 'audio_tokens': 0, 'reasoning_tokens': 0, 'rejected_prediction_tokens': 0}, 'prompt_tokens_details': {'audio_tokens': 0, 'cached_tokens': 0}}, 'model_name': 'gpt-4o-mini-2024-07-18', 'system_fingerprint': 'fp_06737a9306', 'finish_reason': 'tool_calls', 'logprobs': None} id='run-d1e78d89-1550-4924-8c5b-0af5d33eccb0-0' tool_calls=[{'name': 'AskHuman', 'args': {'question': 'Which type of distilled alcohol do you favor (e.g., whisky, gin, vodka, etc.) or any fermented beverages?'}, 'id': 'call_jm9KJMepSeSHRi5pZQVj7d6q', 'type': 'tool_call'}] usage_metadata={'input_tokens': 585, 'output_tokens': 40, 'total_tokens': 625, 'input_token_details': {'audio': 0, 'cache_read': 0}, 'output_token_details': {'audio': 0, 'reasoning': 0}} + \n",
      "<><><><><>\n",
      "\n",
      "\n",
      "type: <class 'langchain_core.messages.ai.AIMessage'>:\n",
      "fcontent='' additional_kwargs={'tool_calls': [{'id': 'call_jm9KJMepSeSHRi5pZQVj7d6q', 'function': {'arguments': '{\"question\":\"Which type of distilled alcohol do you favor (e.g., whisky, gin, vodka, etc.) or any fermented beverages?\"}', 'name': 'AskHuman'}, 'type': 'function'}], 'refusal': None} response_metadata={'token_usage': {'completion_tokens': 40, 'prompt_tokens': 585, 'total_tokens': 625, 'completion_tokens_details': {'accepted_prediction_tokens': 0, 'audio_tokens': 0, 'reasoning_tokens': 0, 'rejected_prediction_tokens': 0}, 'prompt_tokens_details': {'audio_tokens': 0, 'cached_tokens': 0}}, 'model_name': 'gpt-4o-mini-2024-07-18', 'system_fingerprint': 'fp_06737a9306', 'finish_reason': 'tool_calls', 'logprobs': None} id='run-d1e78d89-1550-4924-8c5b-0af5d33eccb0-0' tool_calls=[{'name': 'AskHuman', 'args': {'question': 'Which type of distilled alcohol do you favor (e.g., whisky, gin, vodka, etc.) or any fermented beverages?'}, 'id': 'call_jm9KJMepSeSHRi5pZQVj7d6q', 'type': 'tool_call'}] usage_metadata={'input_tokens': 585, 'output_tokens': 40, 'total_tokens': 625, 'input_token_details': {'audio': 0, 'cache_read': 0}, 'output_token_details': {'audio': 0, 'reasoning': 0}}\n",
      "+++++++\n"
     ]
    }
   ],
   "source": [
    "# response from Command(resume=) get formatted as a tool response\n",
    "for event in app.stream(Command(resume=\"shaken\"), config, stream_mode=\"values\"):\n",
    "    #event[\"messages\"][-1].pretty_print()\n",
    "    print(f\"type: {type(event[\"messages\"][-1])}:\\nf{event[\"messages\"][-1].tool_calls}\")\n",
    "    print('+++++++')"
   ]
  },
  {
   "cell_type": "code",
   "execution_count": null,
   "metadata": {},
   "outputs": [],
   "source": [
    "for event in app.stream(Command(resume=\"vodka\"), config, stream_mode=\"values\"):\n",
    "    event[\"messages\"][-1].pretty_print()"
   ]
  },
  {
   "cell_type": "code",
   "execution_count": null,
   "metadata": {},
   "outputs": [],
   "source": [
    "app.get_state(config).next"
   ]
  },
  {
   "cell_type": "code",
   "execution_count": null,
   "metadata": {},
   "outputs": [],
   "source": [
    "for event in app.stream(Command(resume=\"I want sage in my cocktail\"), config, stream_mode=\"values\"):\n",
    "    event[\"messages\"][-1].pretty_print()"
   ]
  },
  {
   "cell_type": "code",
   "execution_count": null,
   "metadata": {},
   "outputs": [],
   "source": [
    "for event in app.stream(Command(resume=\"Yes\"), config, stream_mode=\"values\"):\n",
    "    event[\"messages\"][-1].pretty_print()"
   ]
  },
  {
   "cell_type": "code",
   "execution_count": null,
   "metadata": {},
   "outputs": [],
   "source": [
    "app.get_state(config).next"
   ]
  },
  {
   "cell_type": "code",
   "execution_count": null,
   "metadata": {},
   "outputs": [],
   "source": [
    "app.get_state(config)"
   ]
  },
  {
   "cell_type": "code",
   "execution_count": null,
   "metadata": {},
   "outputs": [],
   "source": [
    "app.get_state(config).next"
   ]
  },
  {
   "cell_type": "code",
   "execution_count": null,
   "metadata": {},
   "outputs": [],
   "source": [
    "for event in app.stream(Command(resume=\"yes\"), config, stream_mode=\"values\"):\n",
    "    event[\"messages\"][-1].pretty_print()"
   ]
  },
  {
   "cell_type": "code",
   "execution_count": null,
   "metadata": {},
   "outputs": [],
   "source": [
    "---\n",
    "app.get_state(config).next\n",
    "app.get_state(config)"
   ]
  },
  {
   "cell_type": "code",
   "execution_count": 32,
   "metadata": {},
   "outputs": [],
   "source": [
    "if app.get_state(config).next:\n",
    "      print(\"keep going\")"
   ]
  },
  {
   "cell_type": "code",
   "execution_count": null,
   "metadata": {},
   "outputs": [],
   "source": [
    "for event in app.stream(Command(resume=\"I don't have any thing in mind, just another recipe\"), config, stream_mode=\"values\"):\n",
    "    event[\"messages\"][-1].pretty_print()"
   ]
  },
  {
   "cell_type": "code",
   "execution_count": null,
   "metadata": {},
   "outputs": [],
   "source": [
    "for event in app.stream(Command(resume=\"I approve!\"), config, stream_mode=\"values\"):\n",
    "    event[\"messages\"][-1].pretty_print()"
   ]
  },
  {
   "cell_type": "code",
   "execution_count": null,
   "metadata": {},
   "outputs": [],
   "source": [
    "app.get_state(config).next"
   ]
  },
  {
   "cell_type": "code",
   "execution_count": null,
   "metadata": {},
   "outputs": [],
   "source": [
    "app.get_state(config).next"
   ]
  },
  {
   "cell_type": "code",
   "execution_count": null,
   "metadata": {},
   "outputs": [],
   "source": [
    "a = app.get_state(config)\n",
    "for thing in a:\n",
    "      print(thing)"
   ]
  },
  {
   "cell_type": "code",
   "execution_count": null,
   "metadata": {},
   "outputs": [],
   "source": []
  }
 ],
 "metadata": {
  "kernelspec": {
   "display_name": ".venv",
   "language": "python",
   "name": "python3"
  },
  "language_info": {
   "codemirror_mode": {
    "name": "ipython",
    "version": 3
   },
   "file_extension": ".py",
   "mimetype": "text/x-python",
   "name": "python",
   "nbconvert_exporter": "python",
   "pygments_lexer": "ipython3",
   "version": "3.12.7"
  }
 },
 "nbformat": 4,
 "nbformat_minor": 2
}
