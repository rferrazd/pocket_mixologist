{
 "cells": [
  {
   "cell_type": "code",
   "execution_count": null,
   "metadata": {},
   "outputs": [],
   "source": [
    "%pip install devtools --quiet"
   ]
  },
  {
   "cell_type": "markdown",
   "metadata": {},
   "source": [
    "# **Medical Assistant**"
   ]
  },
  {
   "cell_type": "markdown",
   "metadata": {},
   "source": [
    "DEFINICAO DE ROTA -- FAZER ISSO NO JAVA / TYPE SCRIPT\n",
    "\n",
    "Assistente medico genAI tem que decidir e auxiliar para dois scenarios: Emergencial e Diagnostico Diferencial.\n",
    "\n",
    "Dado o estado de um paciente, ex: dor no peito, calafrio, confusao mental. O assistente tem que decidir se deveria, rotear para a sugestao (state) emergencial ou diagnostico diferencial. \n",
    "\n",
    "O Assiste deve saber quando a descrição do usuario é sobre algo que pode estar descrevendo uma doença/fatalidade que pode ocorrer naquele momento, ou uma doença/condicao que precisa de trato imediate ou se o usuario este perguntando,fazendo uma busca sobre um diagnostico diferencial.\n",
    "\n",
    "Essa applicação tera 3 prompts:\n",
    "      1. Prompt Rotear se deveramos ir pro state emergencial, pro state diagnostico diferencial, ou usar o tool AskHuman. \n",
    "      2. Prompt quando estiver no state emergencial.\n",
    "      3. Prompt pra quando no state diagnostico differencial.\n",
    "\n",
    "Explicação dos States\n",
    "1. emergencial\n",
    "      - Dado o estado do paciente, o assistente pode, por exemplo, \n",
    "      sugerir um pronto atendimento. ex: dor no peito, calafrio, confusao mental. Pode ser infarto.entao sugerir a internacao ou procedimento etc.. \n",
    "      - Quando neste state (emergencial) a meta é sugerir algo para ser tomado com um certa urgencia, por isso o nome do state é emergencial.\n",
    "\n",
    "2. diagnostico diferencial\n",
    "      - baseado numa descricao (text) do estado do paciente, investigar a causa.\n",
    "      - Esse sate eh mais pra buscar causas\n",
    "\n",
    "Explicação do tool AskHuman:\n",
    "- Se existe duvidas sobre a descrição do paciente, o LLM deve perguntar mais pro usuario para entender sua descrição e decidir pra qual state ir (emergencial ou diagnostico diferencial)\n",
    "\n",
    "\n",
    "ROUTER_PROMPT:\n",
    "- se o input do usuario nao eh claro, perguntar pro usuario se é emergencia ou diagnostico differencial.\n",
    "- Caso de ambiguidade sobre quais decisoes tomar: \n",
    "      - algo mais emergencial \n",
    "      - busca investigacao \n",
    "\n",
    "\n",
    "- Human in the loop para:\n",
    "      - clarificacao ou confirmacao (confirmacao so pra fins de aprender)\n",
    "      - confirmacao seria mais pra processos de arvore de decisao\n",
    "\n",
    "TESTER API do MEMED.\n",
    "- supondo que .... gerar a receita.\n",
    "- comeca a testar com o postman\n",
    "\n",
    "\n",
    "BULARIO\n",
    "- se puxar 20 remedios, como ele vai mostrar a informacao? uma tabela? \n",
    "- batch embedding"
   ]
  },
  {
   "cell_type": "code",
   "execution_count": 3,
   "metadata": {},
   "outputs": [],
   "source": [
    "import os, sys\n",
    "from typing import Literal, Optional\n",
    "from datetime import datetime\n",
    "from devtools import pprint\n",
    "\n",
    "from dotenv import load_dotenv\n",
    "from IPython.display import Image, display\n",
    "from pydantic import BaseModel, Field\n",
    "\n",
    "from langchain_openai import ChatOpenAI\n",
    "from langchain_core.runnables.graph import MermaidDrawMethod\n",
    "from langchain_core.prompts import PromptTemplate\n",
    "from langchain_core.messages import HumanMessage, AIMessage\n",
    "from langgraph.graph import StateGraph, MessagesState, START, END\n",
    "from langgraph.types import Command, interrupt\n",
    "from langgraph.checkpoint.memory import MemorySaver\n",
    "\n",
    "# Local imports - prompts\n",
    "from agent import ROUTER_PROMPT, EMERGENCIAL_PROMPT, DIAGNOSTICO_DIFERENCIAL_PROMPT, \\\n",
    "                  GENERATE_PRESCRIPTION_PROMPT, GENERATE_EXAM_REQUEST_PROMPT\n",
    "# Local imports - pydantic classes\n",
    "from agent import RouterResponse, \\\n",
    "                  LLMPrescription, Doctor, AppointmentTookPlaceIn, Prescription, SkinInfo, \\\n",
    "                  LLMExamRequest, ExamRequest\n",
    "# Local imports - Graph state\n",
    "from agent import State\n",
    "# Decision options \n",
    "from agent import VALID_DECISION_OPTIONS\n",
    "# Wisecare API\n",
    "wisecare_path = \"/Users/robertagarcia/Desktop/learning/LangGraph/langgraph_personal/NodeInterrupt/medical-assistant/wisecare-prescription\"\n",
    "sys.path.append(wisecare_path)\n",
    "\n",
    "# Import our prescription generator\n",
    "from python_wrapper import generate_prescription, generate_exam_request\n",
    "# ---- set global variable ---- #\n",
    "global INTERACTION_COUNT\n",
    "INTERACTION_COUNT = 0\n",
    "\n",
    "load_dotenv()  # Load environment variables from the .env file\n",
    "os.environ['OPENAI_API_KEY'] = os.getenv('OPENAI_API_KEY')\n",
    "os.environ['LANGSMITH_TRACING'] = os.getenv('LANGSMITH_TRACING')\n",
    "os.environ['LANGSMITH_ENDPOINT'] = os.getenv('LANGSMITH_ENDPOINT')\n",
    "os.environ['LANGSMITH_API_KEY'] = os.getenv('LANGSMITH_API_KEY')\n",
    "os.environ['LANGSMITH_PROJECT'] = os.getenv('LANGSMITH_PROJECT')"
   ]
  },
  {
   "cell_type": "markdown",
   "metadata": {},
   "source": [
    "## **Build the Graph - Medical Agent**"
   ]
  },
  {
   "cell_type": "code",
   "execution_count": 2,
   "metadata": {},
   "outputs": [],
   "source": [
    "m = ChatOpenAI(model=\"gpt-4o-mini\")\n",
    "model = m.with_structured_output(RouterResponse)\n",
    "\n",
    "prescription_model = m.with_structured_output(LLMPrescription)"
   ]
  },
  {
   "cell_type": "code",
   "execution_count": null,
   "metadata": {},
   "outputs": [],
   "source": [
    "# LLM router\n",
    "def llm_router(state: State):\n",
    "      if state[\"messages\"] and state[\"messages\"][-1].type == \"human\":\n",
    "            human_input = state[\"messages\"][-1].content\n",
    "            print(\"\\nHuman input: \", human_input)\n",
    "\n",
    "            response = model.invoke(state[\"messages\"])\n",
    "\n",
    "            print(\"THIS IS THE ROUTER RESPONSE:\")\n",
    "            pprint(response)\n",
    "            \n",
    "            state[\"decision\"] = response.decision\n",
    "            state[\"question_to_human\"] = response.question_to_human\n",
    "            state[\"case_synthesis\"] = response.case_synthesis\n",
    "            print(\"Added response to state:\")\n",
    "            print(\"Decision:\", state[\"decision\"])\n",
    "            print(\"Decision Reason: \", response.decision_reason)\n",
    "            print(\"Question to Human:\", state[\"question_to_human\"])\n",
    "            print(\"Case Synthesis:\", state[\"case_synthesis\"])\n",
    "            \n",
    "            # Add the next question to human or case_synthesis to the chat history\n",
    "            if response.question_to_human and response.decision == \"ask_human\":\n",
    "                 state[\"messages\"].append(AIMessage(content=response.question_to_human))\n",
    "            else:\n",
    "                 state[\"messages\"].append(AIMessage(content=response.case_synthesis))\n",
    "\n",
    "      else:\n",
    "            raise ValueError(\"Expected a human message in state['messages'].\")\n",
    "\n",
    "      return state\n",
    "\n",
    "# Emergencial\n",
    "def emergencial(state: State):\n",
    "      global INTERACTION_COUNT\n",
    "      print('INSIDE EMERGENCIAL')\n",
    "      if state[\"case_synthesis\"]:\n",
    "            input = state[\"case_synthesis\"]\n",
    "            print(f\"Using case_synthesis: {input}\")\n",
    "      else:\n",
    "            input = next((msg for msg in reversed(state[\"messages\"]) if msg.type == \"ai\"), state[\"messages\"][1:])\n",
    "            print(f\"Falling back on the last message from the LLM router: {input}\")\n",
    "\n",
    "      response = ChatOpenAI(model=\"gpt-4o-mini\").invoke(EMERGENCIAL_PROMPT.format(input=input))\n",
    "      state[\"final_answer\"] = response.content\n",
    "      # Add final answer to the chat history\n",
    "      state[\"messages\"].append(AIMessage(content=response.content))\n",
    "      # Reset count\n",
    "      INTERACTION_COUNT = 0 \n",
    "      \n",
    "      return state\n",
    "\n",
    "# Diagnositico Diferencial\n",
    "def diagnostico_diferencial(state: State):\n",
    "      global INTERACTION_COUNT\n",
    "      print(\"INSIDE DIAGNOSTICO DIFERENCIAL\")\n",
    "      if state[\"case_synthesis\"]:\n",
    "            input = state[\"case_synthesis\"]\n",
    "            print(f\"Using case_synthesis: {input}\")\n",
    "      else:\n",
    "            input = next((msg for msg in reversed(state[\"messages\"]) if msg.type == \"ai\"), state[\"messages\"][1:])\n",
    "            print(f\"Falling back on the last message from the LLM router: {input}\")\n",
    "      \n",
    "      response = ChatOpenAI(model=\"gpt-4o-mini\").invoke(DIAGNOSTICO_DIFERENCIAL_PROMPT.format(input=input))\n",
    "      state[\"final_answer\"] = response.content\n",
    "      # Add final answer to the chat history\n",
    "      state[\"messages\"].append(AIMessage(content=response.content))\n",
    "\n",
    "      # Reset count\n",
    "      INTERACTION_COUNT = 0 \n",
    "      \n",
    "      return state\n",
    "\n",
    "# Human Node\n",
    "def ask_human(state: State):\n",
    "      print(\" INSIDE ask_human node\")\n",
    "      question = state[\"question_to_human\"]\n",
    "\n",
    "      if state[\"messages\"]:\n",
    "          if not(state[\"messages\"][-1].type == \"ai\"):\n",
    "              #last_question = state[\"messages\"][-1].content\n",
    "              print(\"Warning: Last message to be asked to human is not of type 'ai'\")\n",
    "      else:\n",
    "          print(\"Warning: No messages available in the state. Retaining original question value:\", question)\n",
    "\n",
    "      user_input = interrupt(value=question)     \n",
    "      \n",
    "      return Command(\n",
    "        update={\n",
    "            \"messages\": [\n",
    "                {\n",
    "                    \"role\": \"human\",\n",
    "                    \"content\": user_input,\n",
    "                }\n",
    "            ]\n",
    "            }\n",
    "        ,\n",
    "        goto=\"llm_router\",\n",
    "    )\n",
    "\n",
    "# Gerar Documentos Node\n",
    "def gerar_documentos(state: State):\n",
    "    \n",
    "    print(\"INSIDE gerar_documentos\")\n",
    "    prescription_prompt =  GENERATE_PRESCRIPTION_PROMPT.format(input = state[\"case_synthesis\"] , conversation_history = \"\")\n",
    "    response = prescription_model.invoke(prescription_prompt)\n",
    "    json_prescription = response.model_dump()\n",
    "    \n",
    "    prescription_instance = Prescription(\n",
    "    consultant = json_prescription.get('consultant'),\n",
    "    prescriptions = json_prescription.get('prescriptions'),\n",
    "    doctor = Doctor().model_dump(),\n",
    "    appointmentTookPlaceIn = AppointmentTookPlaceIn().model_dump(),\n",
    ")\n",
    "\n",
    "    prescription_payload = prescription_instance.model_dump()\n",
    "    print(\"RECEITA PAYLOAD: \\n\", prescription_payload)\n",
    "    \n",
    "    # Add prescription payload to message history\n",
    "    state[\"messages\"].append(AIMessage(content=\"Detalhes da receita médica criada:\\n\"+str(prescription_payload)))\n",
    "    \n",
    "    output_path = os.path.join(wisecare_path, f\"output/receita_{datetime.now().strftime('%Y%m%d_%H%M%S')}.pdf\")\n",
    "    \n",
    "    # Send to the Wisecare API\n",
    "    result = generate_prescription({\"prescription\" : prescription_payload }, output_path)\n",
    "    print(f\"Receita gerada e salva na pasta: {result}\")\n",
    "    \n",
    "    return state\n",
    "\n",
    "# Conditional edge:\n",
    "def router(state: State):\n",
    "    global INTERACTION_COUNT\n",
    "    decision = state.get(\"decision\")\n",
    "    if not isinstance(decision, str):\n",
    "        raise ValueError(f\"state['decision'] must be a string, but got {decision} of type {type(decision).__name__}\")\n",
    "    \n",
    "    if decision not in VALID_DECISION_OPTIONS:\n",
    "        raise ValueError(f\"state['decision'] must be one of {VALID_DECISION_OPTIONS}, but got '{decision}'\")\n",
    "    \n",
    "    if INTERACTION_COUNT >= 3:\n",
    "         print(f\"\\n\\n ****Warning: interaction number greater than {INTERACTION_COUNT}, routing to emergencial**** \\n\\n\")\n",
    "         return \"emergencial\"\n",
    "    \n",
    "    elif decision == \"ask_human\":\n",
    "        INTERACTION_COUNT += 1 \n",
    "        print(f\"INSIDE ROUTER selected ask_human.\\nINTERACTION COUNT: {INTERACTION_COUNT}\")\n",
    "        return \"ask_human\"\n",
    "    elif decision == \"diagnostico_diferencial\":\n",
    "        print(\"INSIDE ROUTER selected \\\"diagnostico_diferencial\\\"\")\n",
    "        return \"diagnostico_diferencial\"\n",
    "    elif decision == \"emergencial\":\n",
    "        print(\"INSIDE ROUTER selected \\\"emergencial\\\"\")\n",
    "        return \"emergencial\"\n",
    "    elif decision == \"gerar_documentos\":\n",
    "         print(\"INSIDE ROUTER selected \\\"gerar_documentos\\\"\")\n",
    "         return \"gerar_documentos\"\n",
    "\n",
    "# ----------------------------------\n",
    "# BUILDING AND COMPILING THE GRAPH\n",
    "# ----------------------------------\n",
    "workflow = StateGraph(State)\n",
    "workflow.add_node(\"ask_human\", ask_human)\n",
    "workflow.add_node(\"llm_router\", llm_router)  \n",
    "workflow.add_node(\"diagnostico_diferencial\", diagnostico_diferencial)\n",
    "workflow.add_node(\"emergencial\", emergencial)\n",
    "workflow.add_node(\"gerar_documentos\", gerar_documentos)\n",
    "\n",
    "workflow.add_edge(START, \"llm_router\")\n",
    "workflow.add_edge(\"ask_human\", \"llm_router\")\n",
    "workflow.add_edge(\"diagnostico_diferencial\", END)\n",
    "workflow.add_edge(\"emergencial\", END)\n",
    "# workflow.add_edge(\"gerar_documentos\", END)\n",
    "workflow.add_conditional_edges(\"llm_router\", router)\n",
    "\n",
    "\n",
    "memory = MemorySaver()\n",
    "\n",
    "#agent = workflow.compile(checkpointer=memory)\n",
    "#display(Image(app.get_graph().draw_mermaid_png()))\n",
    "\n",
    "def compile_agent():\n",
    "     return workflow.compile(checkpointer=memory)\n",
    "\n",
    "app = compile_agent()\n"
   ]
  },
  {
   "cell_type": "code",
   "execution_count": null,
   "metadata": {},
   "outputs": [],
   "source": [
    "#display(Image(app.get_graph().draw_mermaid_png(draw_method=MermaidDrawMethod.API,)))\n",
    "display(Image(app.get_graph().draw_mermaid_png()))"
   ]
  },
  {
   "cell_type": "code",
   "execution_count": 6,
   "metadata": {},
   "outputs": [],
   "source": [
    "# testar 4 casos: \n",
    "      # ambiguo\n",
    "      # emergencial\n",
    "      # diagnostico diferencial\n",
    "      # gerar documentos\n",
    "\n",
    "teste_ambiguo = \"Tenho dor de cabeça há dois dias.\" # OKAY \n",
    "teste_emergencial = \"Dor abdominal intensa acompanhada de hipotensão, palidez e sudorese.\" # OKAY\n",
    "teste_diagnostico_diferencial = \"Dor lombar persistente por várias semanas, sem irradiação ou sinais de compressão medular.\" # OKAY\n",
    "teste_gerar_documento = \"Quero receita de tylenol 20mg (1 vez ao dia), para o homem Frederico Antunes, 20 anos.\" # OKAY\n"
   ]
  },
  {
   "cell_type": "code",
   "execution_count": null,
   "metadata": {},
   "outputs": [],
   "source": [
    "# teste_gerar_documento\n",
    "i = 7\n",
    "\n",
    "config = {\"configurable\": {\"thread_id\": f\"thread_{i}\"}}\n",
    "for event in app.stream(\n",
    "    {\n",
    "        \"messages\": [\n",
    "            (\n",
    "                \"system\",\n",
    "                ROUTER_PROMPT\n",
    "            ),\n",
    "            (\n",
    "                \"user\",\n",
    "                teste_gerar_documento,  \n",
    "            )\n",
    "        ],\n",
    "        \"initial_human_input\": teste_gerar_documento\n",
    "    },\n",
    "    config,\n",
    "    stream_mode=\"values\",\n",
    "):\n",
    "    event[\"messages\"][-1].pretty_print()"
   ]
  },
  {
   "cell_type": "markdown",
   "metadata": {},
   "source": [
    "## **Testando casos ambiguos**"
   ]
  },
  {
   "cell_type": "code",
   "execution_count": 4,
   "metadata": {},
   "outputs": [],
   "source": [
    "\n",
    "\n",
    "ambiguous_inputs = [\n",
    "      #\"Tuberculose\",\n",
    "      #\"Dor no peito\",\n",
    "      #\"Paciente com febre\",\n",
    "      #\"Muita dor de ouvido e ansiedade\",\n",
    "      #\"Tenho dor de cabeça há dois dias.\"\n",
    "      \"Melanoma\",\n",
    "      #\"Dor de barriga e vomito\"\n",
    "]\n",
    "\n",
    "emergencial_cases = [\n",
    "      \n",
    "#     # \"Dor torácica intensa iniciada há 20 minutos, irradiando para o braço esquerdo, com dispneia e sudorese profusa.\", # OK\n",
    "#     #\"Início súbito de fraqueza em um lado do corpo, dificuldade para falar e perda de equilíbrio.\", # OK\n",
    "     \"Crise asmática com dificuldade respiratória, chiado intenso, cianose e incapacidade de falar\", # OK\n",
    "#     # \"Reação alérgica com inchaço da face e lábios, dificuldade para respirar e sensação de desmaio após exposição a um alérgeno conhecido.\", # OK\n",
    "#     #\"Dor abdominal intensa acompanhada de hipotensão, palidez e sudorese.\" # OK\n",
    "\n",
    " ]\n",
    "\n",
    "diagnostico_diferencial_cases = [\n",
    "    #  \"Cefaleia frontal recorrente há meses, sem piora súbita ou sintomas neurológicos associados.\", # OK\n",
    "    #   \"Dor lombar persistente por várias semanas, sem irradiação ou sinais de compressão medular.\", # OK\n",
    "    #   \"Desconforto torácico leve e intermitente, sem irradiação ou dispneia aguda, com duração de dias.\", # OK\n",
    "    #   \"Episódios intermitentes de tontura e vertigem leves, sem perda súbita de força ou alterações visuais.\", # OK\n",
    "    #   \"Enxaqueca com aura, acompanhada de dor de cabeça intensa, fotofobia e sintomas visuais, persistindo por horas e melhorando com analgésicos.\" # OK\n",
    "]\n",
    "\n",
    "\n",
    "\n",
    "\n",
    "# poucas palavras, bem vago. \n",
    "# Exemplos:\n",
    "#    - Dor no Peito\n",
    "#   - Tuberculose\n",
    "# UI em typescript --> https://github.com/intellidoctor/assistant-ui\n",
    "    # Depois pluga neste UI"
   ]
  },
  {
   "cell_type": "markdown",
   "metadata": {},
   "source": [
    "## **GRAPH TO TEST WISECARE API**"
   ]
  },
  {
   "cell_type": "code",
   "execution_count": 5,
   "metadata": {},
   "outputs": [
    {
     "data": {
      "text/plain": [
       "{}"
      ]
     },
     "execution_count": 5,
     "metadata": {},
     "output_type": "execute_result"
    }
   ],
   "source": [
    "m = ChatOpenAI(model=\"gpt-4o-mini\")\n",
    "model = m.with_structured_output(RouterResponse)\n",
    "\n",
    "prescription_model = m.with_structured_output(LLMPrescription)\n",
    "class State(MessagesState):\n",
    "    decision: Optional[str]\n",
    "    human_instruction: Optional[str]\n",
    "\n",
    "sample = State()\n",
    "sample"
   ]
  },
  {
   "cell_type": "code",
   "execution_count": null,
   "metadata": {},
   "outputs": [
    {
     "data": {
      "image/png": "[encoded data removed]",
      "text/plain": [
       "<IPython.core.display.Image object>"
      ]
     },
     "metadata": {},
     "output_type": "display_data"
    }
   ],
   "source": [
    "# Nodes\n",
    "def selecione_documento(state: State):\n",
    "    user_choices = state[\"messages\"][-1].content #\"Qual documento você deseja gerar? (Escolha apenas um número):\\n1) Receita médica\\n2) Pedido de exame\\n3) Atestado médico\"\n",
    "    #state[\"messages\"].append(AIMessage(content=user_choices))\n",
    "\n",
    "    user_input = interrupt(value=user_choices)\n",
    "    print(\"Usuario escolheu: \", user_input)\n",
    "    if user_input.strip() not in [\"1\", \"2\", \"3\"]:\n",
    "        print(\"Entrada inválida. Por favor, insira 1, 2 ou 3.\")\n",
    "    \n",
    "    return Command(\n",
    "        update={\n",
    "            \"messages\": [\n",
    "                {\n",
    "                    \"role\": \"human\",\n",
    "                    \"content\": user_input.strip(),\n",
    "                }\n",
    "            ],\n",
    "            \"decision\" : user_input.strip()\n",
    "            }\n",
    "        ,\n",
    "        goto=\"get_human_instruction\",\n",
    "    )\n",
    "\n",
    "def get_human_instruction(state: State):\n",
    "    print(\"INSIDE get_human_instruction, this is state['decision']: \", state[\"decision\"])\n",
    "    if state[\"decision\"] == \"1\" :\n",
    "        interrupt_value = \"Para gerar a receita, por favor, forneça as seguintes informações:\\n- Nome do paciente\\n- Idade\\n-Gênero\\n- Medicamentos com dosagem e posologia.\"\n",
    "    elif state[\"decision\"] == \"2\" :\n",
    "        interrupt_value = \"Para gerar o pedido de exame, forneça as seguintes informações:\\n- Nome do paciente\\n- Motivo do pedido\\n- Descrição do pedido de exame\"\n",
    "    else: \n",
    "        interrupt_value = \"Finalizando o graph\"\n",
    "    \n",
    "    state[\"messages\"].append(AIMessage(content=interrupt_value))\n",
    "    \n",
    "    user_input = interrupt(value = interrupt_value)\n",
    "    print(\"INSIDE get_human_instructions, user input: \", user_input)\n",
    "    \n",
    "    return Command(\n",
    "        update={\n",
    "            \"messages\": [\n",
    "                {\n",
    "                    \"role\": \"human\",\n",
    "                    \"content\": user_input,\n",
    "                }\n",
    "            ],\n",
    "            \"human_instruction\" : user_input\n",
    "            },\n",
    "            goto=\"router\"\n",
    "\n",
    "    )\n",
    "\n",
    "def gerar_receita(state: State):\n",
    "    print(\"INSIDE gerar_receita\")\n",
    "\n",
    "    prescription_prompt =  GENERATE_PRESCRIPTION_PROMPT.format(input = state.get(\"human_instruction\") , conversation_history = \"\")\n",
    "    response = prescription_model.invoke(prescription_prompt)\n",
    "    json_prescription = response.model_dump()\n",
    "    \n",
    "    prescription_instance = Prescription(\n",
    "        consultant = json_prescription.get('consultant'),\n",
    "        prescriptions = json_prescription.get('prescriptions'),\n",
    "        doctor = Doctor().model_dump(),\n",
    "        appointmentTookPlaceIn = AppointmentTookPlaceIn().model_dump(),)\n",
    "    \n",
    "    # skin info\n",
    "    skin_info = SkinInfo().model_dump()\n",
    "\n",
    "    prescription_payload = prescription_instance.model_dump()\n",
    "    print(\"RECEITA PAYLOAD: \\n\", prescription_payload)\n",
    "    \n",
    "    # Add prescription payload to message history\n",
    "    state[\"messages\"].append(AIMessage(content=\"Detalhes da receita médica criada:\\n\"+str(prescription_payload)))\n",
    "    \n",
    "    output_path = os.path.join(wisecare_path, f\"output/receita_{datetime.now().strftime('%Y%m%d_%H%M%S')}.pdf\")\n",
    "    \n",
    "    # Send to the Wisecare API\n",
    "    result = generate_prescription( prescription_payload, output_path, skin_info = skin_info)\n",
    "    print(f\"Receita gerada e salva na pasta: {result}\")\n",
    "    \n",
    "    return state\n",
    "\n",
    "\n",
    "# Node for exam request\n",
    "def gerar_pedido_de_exame(state: State): \n",
    "\n",
    "    print(\"INSIDE gerar exame\")\n",
    "    exam_request_prompt = GENERATE_EXAM_REQUEST_PROMPT.format(input = state.get(\"human_instruction\") , conversation_history = \"\")\n",
    "    model = m.with_structured_output(LLMExamRequest)\n",
    "    response = model.invoke(exam_request_prompt)\n",
    "    skin_info = SkinInfo().model_dump()\n",
    "\n",
    "    exam_request_payload = ExamRequest(\n",
    "      consultant = response.model_dump().get(\"consultant\"),\n",
    "      clinicalIndication = response.model_dump().get(\"clinicalIndication\"),\n",
    "      request = response.model_dump().get(\"request\"),\n",
    "      doctor =  Doctor(),\n",
    "      appointmentTookPlaceIn = AppointmentTookPlaceIn(),\n",
    "      dateOfEmission = datetime.today().strftime(\"%d/%m/%Y\")\n",
    "    )\n",
    "\n",
    "    exam_request_payload = exam_request_payload.model_dump()\n",
    "    print(\"PAYLOAD FOR EXAM REQUEST: \", exam_request_payload)\n",
    "    \n",
    "    # Add exam request payload to message history\n",
    "    state[\"messages\"].append(AIMessage(content=\"Detalhes da receita médica criada:\\n\"+str(exam_request_payload)))\n",
    "    \n",
    "    output_path = os.path.join(wisecare_path, f\"output/exam_request_{datetime.now().strftime('%Y%m%d_%H%M%S')}.pdf\")\n",
    "    result = generate_exam_request(exam_request_payload, output_path, skin_info = skin_info)\n",
    "    print(f\"Pedido de exame gerado e salvo na pasta: {result}\")\n",
    "    return state\n",
    "\n",
    "\n",
    "\n",
    "# Edges\n",
    "def router(state: State):\n",
    "    decision = state.get(\"decision\")\n",
    "\n",
    "    if decision == \"1\":\n",
    "        return \"gerar_receita\"\n",
    "    elif decision == \"2\":\n",
    "        return \"gerar_pedido_de_exame\"\n",
    "    else:\n",
    "        return END\n",
    "\n",
    "\n",
    "\n",
    "# ----------------------------------\n",
    "# BUILDING AND COMPILING THE GRAPH\n",
    "# ----------------------------------\n",
    "workflow = StateGraph(State)\n",
    "workflow.add_node(\"selecione_documento\", selecione_documento)\n",
    "workflow.add_node(\"get_human_instruction\", get_human_instruction)  \n",
    "workflow.add_node(\"gerar_receita\", gerar_receita)\n",
    "workflow.add_node(\"gerar_pedido_de_exame\", gerar_pedido_de_exame)\n",
    "\n",
    "workflow.add_edge(START, \"selecione_documento\")\n",
    "workflow.add_edge(\"selecione_documento\", \"get_human_instruction\")\n",
    "workflow.add_edge(\"gerar_receita\", END)\n",
    "workflow.add_edge(\"gerar_pedido_de_exame\", END)\n",
    "workflow.add_conditional_edges(\"get_human_instruction\", router)\n",
    "\n",
    "\n",
    "memory = MemorySaver()\n",
    "\n",
    "#agent = workflow.compile(checkpointer=memory)\n",
    "#display(Image(app.get_graph().draw_mermaid_png()))\n",
    "\n",
    "def compile_agent():\n",
    "     return workflow.compile(checkpointer=memory)\n",
    "\n",
    "app = compile_agent()\n",
    "#display(Image(app.get_graph().draw_mermaid_png(draw_method=MermaidDrawMethod.API,)))\n",
    "display(Image(app.get_graph().draw_mermaid_png()))\n",
    "\n"
   ]
  },
  {
   "cell_type": "code",
   "execution_count": 7,
   "metadata": {},
   "outputs": [
    {
     "name": "stdout",
     "output_type": "stream",
     "text": [
      "==================================\u001b[1m Ai Message \u001b[0m==================================\n",
      "\n",
      "Qual documento você deseja gerar? (Escolha apenas um número):\n",
      "1) Receita médica\n",
      "2) Pedido de exame\n",
      "3) Atestado médico\n"
     ]
    }
   ],
   "source": [
    "config = {\"configurable\": {\"thread_id\": f\"g\"}}\n",
    "for event in app.stream(\n",
    "    {\n",
    "        \"messages\": [AIMessage(content=\"Qual documento você deseja gerar? (Escolha apenas um número):\\n1) Receita médica\\n2) Pedido de exame\\n3) Atestado médico\")],\n",
    "        \"decision\": \"\",\n",
    "        \"human_instructions\" : \"\"\n",
    "    },\n",
    "    config,\n",
    "    stream_mode=\"values\",\n",
    "):\n",
    "    event[\"messages\"][-1].pretty_print()"
   ]
  },
  {
   "cell_type": "code",
   "execution_count": 8,
   "metadata": {},
   "outputs": [
    {
     "data": {
      "text/plain": [
       "(('selecione_documento',),\n",
       " (PregelTask(id='443e7b9e-501c-0a40-cb67-e9e2fe88531e', name='selecione_documento', path=('__pregel_pull', 'selecione_documento'), error=None, interrupts=(Interrupt(value='Qual documento você deseja gerar? (Escolha apenas um número):\\n1) Receita médica\\n2) Pedido de exame\\n3) Atestado médico', resumable=True, ns=['selecione_documento:443e7b9e-501c-0a40-cb67-e9e2fe88531e'], when='during'),), state=None, result=None),))"
      ]
     },
     "execution_count": 8,
     "metadata": {},
     "output_type": "execute_result"
    }
   ],
   "source": [
    "state = app.get_state(config)\n",
    "state.next, state.tasks"
   ]
  },
  {
   "cell_type": "code",
   "execution_count": 9,
   "metadata": {},
   "outputs": [
    {
     "name": "stdout",
     "output_type": "stream",
     "text": [
      "Usuario escolheu:  2\n",
      "INSIDE get_human_instruction, this is state['decision']:  2\n"
     ]
    },
    {
     "data": {
      "text/plain": [
       "{'messages': [AIMessage(content='Qual documento você deseja gerar? (Escolha apenas um número):\\n1) Receita médica\\n2) Pedido de exame\\n3) Atestado médico', additional_kwargs={}, response_metadata={}, id='61f32d28-d37e-49e8-9fa4-371689df2378'),\n",
       "  HumanMessage(content='2', additional_kwargs={}, response_metadata={}, id='f1d1c5ec-fe17-4267-8354-88e5bebe6920'),\n",
       "  AIMessage(content='Para gerar o pedido de exame, forneça as seguintes informações:\\n- Nome do paciente\\n- Motivo do pedido\\n- Descrição do pedido de exame', additional_kwargs={}, response_metadata={})],\n",
       " 'decision': '2'}"
      ]
     },
     "execution_count": 9,
     "metadata": {},
     "output_type": "execute_result"
    }
   ],
   "source": [
    "app.invoke(Command(resume=\"2\"), \n",
    "     config=config)"
   ]
  },
  {
   "cell_type": "code",
   "execution_count": 10,
   "metadata": {},
   "outputs": [
    {
     "data": {
      "text/plain": [
       "(('get_human_instruction',),\n",
       " (PregelTask(id='ad7bae27-47ec-0559-233c-1715c1e41516', name='get_human_instruction', path=('__pregel_pull', 'get_human_instruction'), error=None, interrupts=(Interrupt(value='Para gerar o pedido de exame, forneça as seguintes informações:\\n- Nome do paciente\\n- Motivo do pedido\\n- Descrição do pedido de exame', resumable=True, ns=['get_human_instruction:ad7bae27-47ec-0559-233c-1715c1e41516'], when='during'),), state=None, result=None),))"
      ]
     },
     "execution_count": 10,
     "metadata": {},
     "output_type": "execute_result"
    }
   ],
   "source": [
    "state = app.get_state(config)\n",
    "state.next, state.tasks"
   ]
  },
  {
   "cell_type": "code",
   "execution_count": 11,
   "metadata": {},
   "outputs": [
    {
     "name": "stdout",
     "output_type": "stream",
     "text": [
      "INSIDE get_human_instruction, this is state['decision']:  2\n",
      "INSIDE get_human_instructions, user input:  Solicito ultrassonografia de abdome total devido a dor abdominal no hipocôndrio direito. paciente = Jorge\n",
      "INSIDE gerar exame\n",
      "PAYLOAD FOR EXAM REQUEST:  {'consultant': 'Jorge', 'codigo': 'EX12345', 'clinicalIndication': 'Dor abdominal no hipocôndrio direito.', 'request': 'Ultrassonografia de abdome total.', 'doctor': {'name': 'Médico Silva', 'crm': '1231231', 'uf': 'PB'}, 'appointmentTookPlaceIn': {'name': 'Nome', 'address': 'Rua das Flores, 137', 'neighbourhood': 'Bairro', 'city': 'Cidade', 'uf': 'PB', 'phone': '11999999999'}, 'dateOfEmission': '27/03/2025'}\n",
      "Exam request generated and saved to /Users/robertagarcia/Desktop/learning/LangGraph/langgraph_personal/NodeInterrupt/medical-assistant/wisecare-prescription/output/exam_request_20250327_133746.pdf\n",
      "Pedido de exame gerado e salvo na pasta: /Users/robertagarcia/Desktop/learning/LangGraph/langgraph_personal/NodeInterrupt/medical-assistant/wisecare-prescription/output/exam_request_20250327_133746.pdf\n"
     ]
    },
    {
     "data": {
      "text/plain": [
       "{'messages': [AIMessage(content='Qual documento você deseja gerar? (Escolha apenas um número):\\n1) Receita médica\\n2) Pedido de exame\\n3) Atestado médico', additional_kwargs={}, response_metadata={}, id='61f32d28-d37e-49e8-9fa4-371689df2378'),\n",
       "  HumanMessage(content='2', additional_kwargs={}, response_metadata={}, id='f1d1c5ec-fe17-4267-8354-88e5bebe6920'),\n",
       "  AIMessage(content='Para gerar o pedido de exame, forneça as seguintes informações:\\n- Nome do paciente\\n- Motivo do pedido\\n- Descrição do pedido de exame', additional_kwargs={}, response_metadata={}, id='07d28275-77f1-4dff-bacb-1421ad480d11'),\n",
       "  HumanMessage(content='Solicito ultrassonografia de abdome total devido a dor abdominal no hipocôndrio direito. paciente = Jorge', additional_kwargs={}, response_metadata={}, id='59c7d12e-e93e-4402-a06a-4e5386884140'),\n",
       "  AIMessage(content=\"Detalhes da receita médica criada:\\n{'consultant': 'Jorge', 'codigo': 'EX12345', 'clinicalIndication': 'Dor abdominal no hipocôndrio direito.', 'request': 'Ultrassonografia de abdome total.', 'doctor': {'name': 'Médico Silva', 'crm': '1231231', 'uf': 'PB'}, 'appointmentTookPlaceIn': {'name': 'Nome', 'address': 'Rua das Flores, 137', 'neighbourhood': 'Bairro', 'city': 'Cidade', 'uf': 'PB', 'phone': '11999999999'}, 'dateOfEmission': '27/03/2025'}\", additional_kwargs={}, response_metadata={}, id='ae7b4bb0-878a-4564-802a-8a7f0ddd0a0b')],\n",
       " 'decision': '2',\n",
       " 'human_instruction': 'Solicito ultrassonografia de abdome total devido a dor abdominal no hipocôndrio direito. paciente = Jorge'}"
      ]
     },
     "execution_count": 11,
     "metadata": {},
     "output_type": "execute_result"
    }
   ],
   "source": [
    "app.invoke(\n",
    "    Command(resume=\"Solicito ultrassonografia de abdome total devido a dor abdominal no hipocôndrio direito. paciente = Jorge\"), \n",
    "    config=config\n",
    ")"
   ]
  },
  {
   "cell_type": "code",
   "execution_count": 12,
   "metadata": {},
   "outputs": [
    {
     "name": "stdout",
     "output_type": "stream",
     "text": [
      "==================================\u001b[1m Ai Message \u001b[0m==================================\n",
      "\n",
      "Qual documento você deseja gerar? (Escolha apenas um número):\n",
      "1) Receita médica\n",
      "2) Pedido de exame\n",
      "3) Atestado médico\n"
     ]
    }
   ],
   "source": [
    "# EXEMPLO PARA RECEITA MEDICA\n",
    "config = {\"configurable\": {\"thread_id\": f\"h\"}}\n",
    "for event in app.stream(\n",
    "    {\n",
    "        \"messages\": [AIMessage(content=\"Qual documento você deseja gerar? (Escolha apenas um número):\\n1) Receita médica\\n2) Pedido de exame\\n3) Atestado médico\")],\n",
    "        \"decision\": \"\",\n",
    "        \"human_instructions\" : \"\"\n",
    "    },\n",
    "    config,\n",
    "    stream_mode=\"values\",\n",
    "):\n",
    "    event[\"messages\"][-1].pretty_print()"
   ]
  },
  {
   "cell_type": "code",
   "execution_count": 13,
   "metadata": {},
   "outputs": [
    {
     "name": "stdout",
     "output_type": "stream",
     "text": [
      "Usuario escolheu:  1\n",
      "INSIDE get_human_instruction, this is state['decision']:  1\n"
     ]
    },
    {
     "data": {
      "text/plain": [
       "{'messages': [AIMessage(content='Qual documento você deseja gerar? (Escolha apenas um número):\\n1) Receita médica\\n2) Pedido de exame\\n3) Atestado médico', additional_kwargs={}, response_metadata={}, id='98eda8f7-3542-4d06-bc0e-2ca78494a99a'),\n",
       "  HumanMessage(content='1', additional_kwargs={}, response_metadata={}, id='aac120d0-d95e-4884-a376-7978139d3429'),\n",
       "  AIMessage(content='Para gerar a receita, por favor, forneça as seguintes informações:\\n- Nome do paciente\\n- Idade\\n- Medicamentos com dosagem e posologia.', additional_kwargs={}, response_metadata={})],\n",
       " 'decision': '1'}"
      ]
     },
     "execution_count": 13,
     "metadata": {},
     "output_type": "execute_result"
    }
   ],
   "source": [
    "app.invoke(Command(resume=\"1\"), \n",
    "     config=config)"
   ]
  },
  {
   "cell_type": "code",
   "execution_count": 14,
   "metadata": {},
   "outputs": [
    {
     "name": "stdout",
     "output_type": "stream",
     "text": [
      "INSIDE get_human_instruction, this is state['decision']:  1\n",
      "INSIDE get_human_instructions, user input:  Receita pro Fernando Albuquerque de 80 anos, genero masculino. Medicamentos: tylenol 10mg 1 vez ao dia, eutyrox 50mg 1 hora antes do cafe da manha, e prozac de 7 ou 8mg antes de dormir.\n",
      "INSIDE gerar_receita\n",
      "RECEITA PAYLOAD: \n",
      " {'codigo': '12314', 'consultant': {'name': 'Fernando Albuquerque', 'age': '80 anos', 'gender': 'masculino'}, 'prescriptions': [{'name': 'Tylenol', 'dosage': '10mg', 'posology': '1 vez ao dia'}, {'name': 'Eutyrox', 'dosage': '50mg', 'posology': '1 hora antes do café da manhã'}, {'name': 'Prozac', 'dosage': '7 ou 8mg', 'posology': 'antes de dormir'}], 'doctor': {'name': 'Médico Silva', 'crm': '1231231', 'uf': 'PB'}, 'appointmentTookPlaceIn': {'name': 'Nome', 'address': 'Rua das Flores, 137', 'neighbourhood': 'Bairro', 'city': 'Cidade', 'uf': 'PB', 'phone': '11999999999'}}\n",
      "Prescription generated and saved to /Users/robertagarcia/Desktop/learning/LangGraph/langgraph_personal/NodeInterrupt/medical-assistant/wisecare-prescription/output/receita_20250327_134115.pdf\n",
      "Receita gerada e salva na pasta: /Users/robertagarcia/Desktop/learning/LangGraph/langgraph_personal/NodeInterrupt/medical-assistant/wisecare-prescription/output/receita_20250327_134115.pdf\n"
     ]
    },
    {
     "data": {
      "text/plain": [
       "{'messages': [AIMessage(content='Qual documento você deseja gerar? (Escolha apenas um número):\\n1) Receita médica\\n2) Pedido de exame\\n3) Atestado médico', additional_kwargs={}, response_metadata={}, id='98eda8f7-3542-4d06-bc0e-2ca78494a99a'),\n",
       "  HumanMessage(content='1', additional_kwargs={}, response_metadata={}, id='aac120d0-d95e-4884-a376-7978139d3429'),\n",
       "  AIMessage(content='Para gerar a receita, por favor, forneça as seguintes informações:\\n- Nome do paciente\\n- Idade\\n- Medicamentos com dosagem e posologia.', additional_kwargs={}, response_metadata={}, id='45aa4bf5-8288-4b3e-a54a-b1da9d125998'),\n",
       "  HumanMessage(content='Receita pro Fernando Albuquerque de 80 anos, genero masculino. Medicamentos: tylenol 10mg 1 vez ao dia, eutyrox 50mg 1 hora antes do cafe da manha, e prozac de 7 ou 8mg antes de dormir.', additional_kwargs={}, response_metadata={}, id='dc9a804f-d3df-41e7-81c0-34a3b4210875'),\n",
       "  AIMessage(content=\"Detalhes da receita médica criada:\\n{'codigo': '12314', 'consultant': {'name': 'Fernando Albuquerque', 'age': '80 anos', 'gender': 'masculino'}, 'prescriptions': [{'name': 'Tylenol', 'dosage': '10mg', 'posology': '1 vez ao dia'}, {'name': 'Eutyrox', 'dosage': '50mg', 'posology': '1 hora antes do café da manhã'}, {'name': 'Prozac', 'dosage': '7 ou 8mg', 'posology': 'antes de dormir'}], 'doctor': {'name': 'Médico Silva', 'crm': '1231231', 'uf': 'PB'}, 'appointmentTookPlaceIn': {'name': 'Nome', 'address': 'Rua das Flores, 137', 'neighbourhood': 'Bairro', 'city': 'Cidade', 'uf': 'PB', 'phone': '11999999999'}}\", additional_kwargs={}, response_metadata={}, id='d84b142b-7a04-42f2-b830-d947682e71a6')],\n",
       " 'decision': '1',\n",
       " 'human_instruction': 'Receita pro Fernando Albuquerque de 80 anos, genero masculino. Medicamentos: tylenol 10mg 1 vez ao dia, eutyrox 50mg 1 hora antes do cafe da manha, e prozac de 7 ou 8mg antes de dormir.'}"
      ]
     },
     "execution_count": 14,
     "metadata": {},
     "output_type": "execute_result"
    }
   ],
   "source": [
    "app.invoke(Command(resume=\"Receita pro Fernando Albuquerque de 80 anos, genero masculino. Medicamentos: tylenol 10mg 1 vez ao dia, eutyrox 50mg 1 hora antes do cafe da manha, e prozac de 7 ou 8mg antes de dormir.\"), \n",
    "     config=config)"
   ]
  }
 ],
 "metadata": {
  "kernelspec": {
   "display_name": "base",
   "language": "python",
   "name": "python3"
  },
  "language_info": {
   "codemirror_mode": {
    "name": "ipython",
    "version": 3
   },
   "file_extension": ".py",
   "mimetype": "text/x-python",
   "name": "python",
   "nbconvert_exporter": "python",
   "pygments_lexer": "ipython3",
   "version": "3.11.9"
  }
 },
 "nbformat": 4,
 "nbformat_minor": 2
}
