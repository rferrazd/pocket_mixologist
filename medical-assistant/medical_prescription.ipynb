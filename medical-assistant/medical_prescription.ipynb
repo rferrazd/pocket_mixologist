{
 "cells": [
  {
   "cell_type": "markdown",
   "metadata": {},
   "source": [
    "## **Testando integração com a API do Wisecare**"
   ]
  },
  {
   "cell_type": "markdown",
   "metadata": {},
   "source": [
    "- formatar o json pra prescription. \n",
    "- pydantic class: Org Info e AppointmentTookPlaceIn, LLM structure output"
   ]
  },
  {
   "cell_type": "code",
   "execution_count": 13,
   "metadata": {},
   "outputs": [],
   "source": [
    "from langchain_openai import ChatOpenAI, OpenAI\n",
    "from langchain_core.prompts import PromptTemplate\n",
    "from langchain_core.messages import SystemMessage\n",
    "from pydantic import BaseModel, Field\n",
    "from typing import List, Dict\n",
    "from dotenv import load_dotenv\n",
    "import os\n",
    "\n",
    "# LOCAL IMPORTS\n",
    "from agent import Doctor, AppointmentTookPlaceIn, LLMPrescription, Prescription\n",
    "from agent import GENERATE_PRESCRIPTION_PROMPT\n",
    "load_dotenv()  # Load environment variables from the .env file\n",
    "os.environ['OPENAI_API_KEY'] = os.getenv('OPENAI_API_KEY')\n",
    "os.environ['LANGSMITH_TRACING'] = os.getenv('LANGSMITH_TRACING')\n",
    "os.environ['LANGSMITH_ENDPOINT'] = os.getenv('LANGSMITH_ENDPOINT')\n",
    "os.environ['LANGSMITH_API_KEY'] = os.getenv('LANGSMITH_API_KEY')\n",
    "os.environ['LANGSMITH_PROJECT'] = os.getenv('LANGSMITH_PROJECT')"
   ]
  },
  {
   "cell_type": "code",
   "execution_count": 2,
   "metadata": {},
   "outputs": [],
   "source": [
    "model = ChatOpenAI(model = \"gpt-4o-mini\", temperature = 0)\n",
    "model = model.with_structured_output(LLMPrescription)\n"
   ]
  },
  {
   "cell_type": "markdown",
   "metadata": {},
   "source": [
    "**Exemplo 1**"
   ]
  },
  {
   "cell_type": "code",
   "execution_count": 3,
   "metadata": {},
   "outputs": [
    {
     "data": {
      "text/plain": [
       "'Você é responsável por gerar um output estruturado com base no input do médico (usuário), sem adicionar ou inventar nenhum medicamento que não tenha sido explicitamente informado.\\n\\nINPUT DO USUÁRIO:\\nCrie uma receita de Vonau de 8mg pra Roberta, genero feminino, 24 anos. Para tomar 3 vezes ao dia\\n\\nHISTÓRICO DA CONVERSA (se disponível):\\n\\n\\nINSTRUÇÕES PARA GERAÇÃO DA PRESCRIÇÃO:\\n\\n1. DADOS DO PACIENTE (consultant):\\n   - name: Nome completo do paciente (string)\\n   - age: Idade do paciente (string)\\n   - gender: Gênero do paciente (string)\\n\\n2. MEDICAMENTOS (prescriptions):\\n   Para cada medicamento que o médico indicar, forneça:\\n   - name: Nome do medicamento (utilize o nome genérico, se aplicável, conforme informado)\\n   - dosage: Dosagem específica (ex: \"500mg\", \"10ml\")\\n   - posology: Posologia detalhada (ex: \"1 comprimido a cada 8 horas\", \"2 gotas em cada narina 3x/dia\")\\n\\nREGRAS IMPORTANTES:\\n1. Considere o histórico completo da conversa para contextualizar a prescrição, se disponível.\\n2. Utilize exclusivamente os medicamentos informados pelo médico.\\n3. NÃO crie ou invente nenhum medicamento que não esteja explicitamente indicado.\\n4. Todos os campos devem ser preenchidos obrigatoriamente.\\n5. O campo \"prescriptions\" deve ser sempre uma lista, mesmo que contenha apenas um medicamento.\\n\\nFORMATO DE SAÍDA:\\nGere a prescrição no formato JSON que corresponda exatamente à seguinte estrutura Pydantic:\\n\\n{\\n    \"consultant\": {\\n        \"name\": \"Nome do Paciente\",\\n        \"age\": \"Idade\",\\n        \"gender\": \"Gênero\"\\n    },\\n    \"prescriptions\": [\\n        {\\n            \"name\": \"Nome do Medicamento\",\\n            \"dosage\": \"Dosagem\",\\n            \"posology\": \"Posologia\"\\n        }\\n    ]\\n}\\n\\nLembre-se:\\n- Utilize apenas os medicamentos explicitamente fornecidos pelo médico.\\n- Todos os campos são obrigatórios e o formato de saída deve corresponder exatamente à estrutura Pydantic.\\n'"
      ]
     },
     "execution_count": 3,
     "metadata": {},
     "output_type": "execute_result"
    }
   ],
   "source": [
    "user_input = \"\"\"Crie uma receita de Vonau de 8mg pra Roberta, genero feminino, 24 anos. Para tomar 3 vezes ao dia\"\"\"\n",
    "\n",
    "prescription_prompt =  GENERATE_PRESCRIPTION_PROMPT.format(input = user_input , conversation_history = \"\")\n",
    "prescription_prompt"
   ]
  },
  {
   "cell_type": "code",
   "execution_count": 4,
   "metadata": {},
   "outputs": [],
   "source": [
    "prescription_response1 = model.invoke([SystemMessage(content= prescription_prompt)])"
   ]
  },
  {
   "cell_type": "code",
   "execution_count": 5,
   "metadata": {},
   "outputs": [
    {
     "data": {
      "text/plain": [
       "{'consultant': {'name': 'Roberta', 'age': '24', 'gender': 'feminino'},\n",
       " 'prescriptions': [{'name': 'Vonau',\n",
       "   'dosage': '8mg',\n",
       "   'posology': '1 comprimido 3 vezes ao dia'}]}"
      ]
     },
     "execution_count": 5,
     "metadata": {},
     "output_type": "execute_result"
    }
   ],
   "source": [
    "json_prescription_1 = prescription_response1.dict()\n",
    "json_prescription_1"
   ]
  },
  {
   "cell_type": "markdown",
   "metadata": {},
   "source": [
    "**Exemplo 2**"
   ]
  },
  {
   "cell_type": "code",
   "execution_count": 28,
   "metadata": {},
   "outputs": [
    {
     "data": {
      "text/plain": [
       "'Você é responsável por gerar um output estruturado com base no input do médico (usuário), sem adicionar ou inventar nenhum medicamento que não tenha sido explicitamente informado.\\n\\nINPUT DO USUÁRIO:\\nReceita de Wellbutrin 20mg, tomar depois do cafe da manha, e Dipirona 10mg duas vezes ao dia. Paciente Kleber genero masculino, 30 anos.\\n\\nHISTÓRICO DA CONVERSA (se disponível):\\n\\n\\nINSTRUÇÕES PARA GERAÇÃO DA PRESCRIÇÃO:\\n\\n1. DADOS DO PACIENTE (consultant):\\n   - name: Nome completo do paciente (string)\\n   - age: Idade do paciente (string)\\n   - gender: Gênero do paciente (string)\\n\\n2. MEDICAMENTOS (prescriptions):\\n   Para cada medicamento que o médico indicar, forneça:\\n   - name: Nome do medicamento (utilize o nome genérico, se aplicável, conforme informado)\\n   - dosage: Dosagem específica (ex: \"500mg\", \"10ml\")\\n   - posology: Posologia detalhada (ex: \"1 comprimido a cada 8 horas\", \"2 gotas em cada narina 3x/dia\")\\n\\nREGRAS IMPORTANTES:\\n1. Considere o histórico completo da conversa para contextualizar a prescrição, se disponível.\\n2. Utilize exclusivamente os medicamentos informados pelo médico.\\n3. NÃO crie ou invente nenhum medicamento que não esteja explicitamente indicado.\\n4. Todos os campos devem ser preenchidos obrigatoriamente.\\n5. O campo \"prescriptions\" deve ser sempre uma lista, mesmo que contenha apenas um medicamento.\\n\\nFORMATO DE SAÍDA:\\nGere a prescrição no formato JSON que corresponda exatamente à seguinte estrutura Pydantic:\\n\\n{\\n    \"consultant\": {\\n        \"name\": \"Nome do Paciente\",\\n        \"age\": \"Idade\",\\n        \"gender\": \"Gênero\"\\n    },\\n    \"prescriptions\": [\\n        {\\n            \"name\": \"Nome do Medicamento\",\\n            \"dosage\": \"Dosagem\",\\n            \"posology\": \"Posologia\"\\n        }\\n    ]\\n}\\n\\nLembre-se:\\n- Utilize apenas os medicamentos explicitamente fornecidos pelo médico.\\n- Todos os campos são obrigatórios e o formato de saída deve corresponder exatamente à estrutura Pydantic.\\n'"
      ]
     },
     "execution_count": 28,
     "metadata": {},
     "output_type": "execute_result"
    }
   ],
   "source": [
    "user_input = \"\"\"Receita de Wellbutrin 20mg, tomar depois do cafe da manha, e Dipirona 10mg duas vezes ao dia. Paciente Kleber genero masculino, 30 anos.\"\"\"\n",
    "\n",
    "prescription_prompt2 =  GENERATE_PRESCRIPTION_PROMPT.format(input = user_input , conversation_history = \"\")\n",
    "prescription_prompt2"
   ]
  },
  {
   "cell_type": "code",
   "execution_count": 29,
   "metadata": {},
   "outputs": [
    {
     "data": {
      "text/plain": [
       "{'consultant': {'name': 'Kleber', 'age': '30', 'gender': 'masculino'},\n",
       " 'prescriptions': [{'name': 'Wellbutrin',\n",
       "   'dosage': '20mg',\n",
       "   'posology': 'tomar depois do café da manhã'},\n",
       "  {'name': 'Dipirona', 'dosage': '10mg', 'posology': 'duas vezes ao dia'}]}"
      ]
     },
     "execution_count": 29,
     "metadata": {},
     "output_type": "execute_result"
    }
   ],
   "source": [
    "prescription_response2 = model.invoke([SystemMessage(content= prescription_prompt2)])\n",
    "json_prescription_2 = prescription_response2.dict()\n",
    "json_prescription_2"
   ]
  },
  {
   "cell_type": "code",
   "execution_count": 30,
   "metadata": {},
   "outputs": [
    {
     "data": {
      "text/plain": [
       "LLMPrescription(consultant=LLMPatient(name='Kleber', age='30', gender='masculino'), prescriptions=[PrescriptionItem(name='Wellbutrin', dosage='20mg', posology='tomar depois do café da manhã'), PrescriptionItem(name='Dipirona', dosage='10mg', posology='duas vezes ao dia')])"
      ]
     },
     "execution_count": 30,
     "metadata": {},
     "output_type": "execute_result"
    }
   ],
   "source": [
    "prescription_response2"
   ]
  },
  {
   "cell_type": "code",
   "execution_count": 31,
   "metadata": {},
   "outputs": [
    {
     "data": {
      "text/plain": [
       "[{'name': 'Wellbutrin',\n",
       "  'dosage': '20mg',\n",
       "  'posology': 'tomar depois do café da manhã'},\n",
       " {'name': 'Dipirona', 'dosage': '10mg', 'posology': 'duas vezes ao dia'}]"
      ]
     },
     "execution_count": 31,
     "metadata": {},
     "output_type": "execute_result"
    }
   ],
   "source": [
    "json_prescription_2.get('consultant')\n",
    "json_prescription_2.get('prescriptions')"
   ]
  },
  {
   "cell_type": "markdown",
   "metadata": {},
   "source": [
    "## **MONTAR O PAYLOAD PRA API DA WISECARE**"
   ]
  },
  {
   "cell_type": "code",
   "execution_count": 32,
   "metadata": {},
   "outputs": [],
   "source": [
    "class Prescription(BaseModel):\n",
    "      \"\"\"Classe Pydantic para gerar o json a ser enviado para a API do Wisecare.\"\"\"\n",
    "      codigo: str = '12314' # código gerado pelo Intellidoctor ou fornecido pelo Wisecare\n",
    "\n",
    "      consultant: Dict[str,str]\n",
    "      \n",
    "      prescriptions: List[Dict[str, str]]  # Detalhes gerados pelo LLM - agora aceita uma lista de dicionários\n",
    "\n",
    "      doctor: Dict[str, str]\n",
    "\n",
    "      appointmentTookPlaceIn: Dict[str, str]"
   ]
  },
  {
   "cell_type": "code",
   "execution_count": 33,
   "metadata": {},
   "outputs": [
    {
     "data": {
      "text/plain": [
       "Prescription(codigo='12314', consultant={'name': 'Kleber', 'age': '30', 'gender': 'masculino'}, prescriptions=[{'name': 'Wellbutrin', 'dosage': '20mg', 'posology': 'tomar depois do café da manhã'}, {'name': 'Dipirona', 'dosage': '10mg', 'posology': 'duas vezes ao dia'}], doctor={'name': 'Médico Silva', 'crm': '1231231', 'uf': 'PB'}, appointmentTookPlaceIn={'name': 'Nome', 'address': 'Rua das Flores, 137', 'neighbourhood': 'Bairro', 'city': 'Cidade', 'uf': 'PB', 'phone': '11999999999'})"
      ]
     },
     "execution_count": 33,
     "metadata": {},
     "output_type": "execute_result"
    }
   ],
   "source": [
    "prescription_instance = Prescription(\n",
    "    consultant = json_prescription_2.get('consultant'),\n",
    "    prescriptions = json_prescription_2.get('prescriptions'),\n",
    "    doctor = Doctor().model_dump(),\n",
    "    appointmentTookPlaceIn = AppointmentTookPlaceIn().model_dump(),\n",
    ")\n",
    "prescription_instance"
   ]
  },
  {
   "cell_type": "code",
   "execution_count": 34,
   "metadata": {},
   "outputs": [
    {
     "data": {
      "text/plain": [
       "{'codigo': '12314',\n",
       " 'consultant': {'name': 'Kleber', 'age': '30', 'gender': 'masculino'},\n",
       " 'prescriptions': [{'name': 'Wellbutrin',\n",
       "   'dosage': '20mg',\n",
       "   'posology': 'tomar depois do café da manhã'},\n",
       "  {'name': 'Dipirona', 'dosage': '10mg', 'posology': 'duas vezes ao dia'}],\n",
       " 'doctor': {'name': 'Médico Silva', 'crm': '1231231', 'uf': 'PB'},\n",
       " 'appointmentTookPlaceIn': {'name': 'Nome',\n",
       "  'address': 'Rua das Flores, 137',\n",
       "  'neighbourhood': 'Bairro',\n",
       "  'city': 'Cidade',\n",
       "  'uf': 'PB',\n",
       "  'phone': '11999999999'}}"
      ]
     },
     "execution_count": 34,
     "metadata": {},
     "output_type": "execute_result"
    }
   ],
   "source": [
    "prescription_payload = prescription_instance.model_dump()\n",
    "prescription_payload"
   ]
  },
  {
   "cell_type": "code",
   "execution_count": null,
   "metadata": {},
   "outputs": [],
   "source": []
  }
 ],
 "metadata": {
  "kernelspec": {
   "display_name": "base",
   "language": "python",
   "name": "python3"
  },
  "language_info": {
   "codemirror_mode": {
    "name": "ipython",
    "version": 3
   },
   "file_extension": ".py",
   "mimetype": "text/x-python",
   "name": "python",
   "nbconvert_exporter": "python",
   "pygments_lexer": "ipython3",
   "version": "3.11.9"
  }
 },
 "nbformat": 4,
 "nbformat_minor": 2
}
