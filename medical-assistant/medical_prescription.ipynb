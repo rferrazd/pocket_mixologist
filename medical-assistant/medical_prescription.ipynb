{
 "cells": [
  {
   "cell_type": "markdown",
   "metadata": {},
   "source": [
    "## **Testando integração com a API do Wisecare**"
   ]
  },
  {
   "cell_type": "markdown",
   "metadata": {},
   "source": [
    "- formatar o json pra prescription. \n",
    "- pydantic class: Org Info e AppointmentTookPlaceIn, LLM structure output"
   ]
  },
  {
   "cell_type": "code",
   "execution_count": 1,
   "metadata": {},
   "outputs": [],
   "source": [
    "from langchain_openai import ChatOpenAI, OpenAI\n",
    "from langchain_core.prompts import PromptTemplate\n",
    "from langchain_core.messages import SystemMessage\n",
    "from pydantic import BaseModel, Field\n",
    "from typing import List, Dict\n",
    "from dotenv import load_dotenv\n",
    "import os\n",
    "\n",
    "# LOCAL IMPORTS\n",
    "from agent import Doctor, AppointmentTookPlaceIn, LLMPrescription, Prescription, Doctor, SkinInfo\n",
    "from agent import GENERATE_PRESCRIPTION_PROMPT\n",
    "load_dotenv()  # Load environment variables from the .env file\n",
    "os.environ['OPENAI_API_KEY'] = os.getenv('OPENAI_API_KEY')\n",
    "os.environ['LANGSMITH_TRACING'] = os.getenv('LANGSMITH_TRACING')\n",
    "os.environ['LANGSMITH_ENDPOINT'] = os.getenv('LANGSMITH_ENDPOINT')\n",
    "os.environ['LANGSMITH_API_KEY'] = os.getenv('LANGSMITH_API_KEY')\n",
    "os.environ['LANGSMITH_PROJECT'] = os.getenv('LANGSMITH_PROJECT')"
   ]
  },
  {
   "cell_type": "code",
   "execution_count": 2,
   "metadata": {},
   "outputs": [],
   "source": [
    "model = ChatOpenAI(model = \"gpt-4o-mini\", temperature = 0)\n",
    "model = model.with_structured_output(LLMPrescription)\n"
   ]
  },
  {
   "cell_type": "markdown",
   "metadata": {},
   "source": [
    "**Exemplo 1**"
   ]
  },
  {
   "cell_type": "code",
   "execution_count": null,
   "metadata": {},
   "outputs": [],
   "source": [
    "user_input = \"\"\"Crie uma receita de Vonau de 8mg pra Roberta, genero feminino, 24 anos. Para tomar 3 vezes ao dia\"\"\"\n",
    "\n",
    "prescription_prompt =  GENERATE_PRESCRIPTION_PROMPT.format(input = user_input , conversation_history = \"\")\n",
    "prescription_prompt"
   ]
  },
  {
   "cell_type": "code",
   "execution_count": 4,
   "metadata": {},
   "outputs": [],
   "source": [
    "prescription_response1 = model.invoke([SystemMessage(content= prescription_prompt)])"
   ]
  },
  {
   "cell_type": "code",
   "execution_count": null,
   "metadata": {},
   "outputs": [],
   "source": [
    "json_prescription_1 = prescription_response1.dict()\n",
    "json_prescription_1"
   ]
  },
  {
   "cell_type": "markdown",
   "metadata": {},
   "source": [
    "**Exemplo 2**"
   ]
  },
  {
   "cell_type": "code",
   "execution_count": null,
   "metadata": {},
   "outputs": [],
   "source": [
    "user_input = \"\"\"Receita de Wellbutrin 20mg, tomar depois do cafe da manha, e Dipirona 10mg duas vezes ao dia. Paciente Kleber genero masculino, 30 anos.\"\"\"\n",
    "\n",
    "prescription_prompt2 =  GENERATE_PRESCRIPTION_PROMPT.format(input = user_input , conversation_history = \"\")\n",
    "prescription_prompt2"
   ]
  },
  {
   "cell_type": "code",
   "execution_count": null,
   "metadata": {},
   "outputs": [],
   "source": [
    "prescription_response2 = model.invoke([SystemMessage(content= prescription_prompt2)])\n",
    "json_prescription_2 = prescription_response2.dict()\n",
    "json_prescription_2"
   ]
  },
  {
   "cell_type": "code",
   "execution_count": null,
   "metadata": {},
   "outputs": [],
   "source": [
    "prescription_response2"
   ]
  },
  {
   "cell_type": "code",
   "execution_count": null,
   "metadata": {},
   "outputs": [],
   "source": [
    "json_prescription_2.get('consultant')\n",
    "json_prescription_2.get('prescriptions')"
   ]
  },
  {
   "cell_type": "markdown",
   "metadata": {},
   "source": [
    "## **MONTAR O PAYLOAD PRA API DA WISECARE**"
   ]
  },
  {
   "cell_type": "code",
   "execution_count": null,
   "metadata": {},
   "outputs": [],
   "source": [
    "prescription_instance = Prescription(\n",
    "    consultant = json_prescription_2.get('consultant'),\n",
    "    prescriptions = json_prescription_2.get('prescriptions'),\n",
    "    doctor = Doctor().model_dump(),\n",
    "    appointmentTookPlaceIn = AppointmentTookPlaceIn().model_dump(),\n",
    ")\n",
    "prescription_instance"
   ]
  },
  {
   "cell_type": "code",
   "execution_count": null,
   "metadata": {},
   "outputs": [],
   "source": [
    "prescription_instance = Prescription(\n",
    "    consultant = json_prescription_2.get('consultant'),\n",
    "    prescriptions = json_prescription_2.get('prescriptions'),\n",
    "    doctor = Doctor().model_dump(),\n",
    "    appointmentTookPlaceIn = AppointmentTookPlaceIn().model_dump(),\n",
    ")\n",
    "\n",
    "prescription_payload = prescription_instance.model_dump()"
   ]
  },
  {
   "cell_type": "code",
   "execution_count": null,
   "metadata": {},
   "outputs": [],
   "source": [
    "prescription_payload = prescription_instance.model_dump()\n",
    "prescription_payload"
   ]
  },
  {
   "cell_type": "code",
   "execution_count": null,
   "metadata": {},
   "outputs": [],
   "source": [
    "import sys\n",
    "import os\n",
    "import datetime\n",
    "\n",
    "wisecare_path = \"/Users/robertagarcia/Desktop/learning/LangGraph/langgraph_personal/NodeInterrupt/medical-assistant/wisecare-prescription\"\n",
    "sys.path.append(wisecare_path)\n",
    "\n",
    "# Import our prescription generator\n",
    "from python_wrapper import generate_prescription\n",
    "\n",
    "# Create a sample prescription for Filo Gomes\n",
    "filo_prescription = {\n",
    "    \"prescription\": {\n",
    "        \"codigo\": \"12345\",\n",
    "        \"consultant\": {\n",
    "            \"name\": \"Filo Gomes\",\n",
    "            \"age\": \"42 anos\",\n",
    "            \"gender\": \"Masculino\"\n",
    "        },\n",
    "        \"prescriptions\": [{\n",
    "            \"name\": \"Losartana\",\n",
    "            \"dosage\": \"50mg\",\n",
    "            \"posology\": \"1 comprimido pela manhã\"\n",
    "        }, {\n",
    "            \"name\": \"Atorvastatina\",\n",
    "            \"dosage\": \"20mg\",\n",
    "            \"posology\": \"1 comprimido à noite\"\n",
    "        }],\n",
    "        \"doctor\": {\n",
    "            \"name\": \"Médico Silva\",\n",
    "            \"crm\": \"1231231\",\n",
    "            \"uf\": \"PB\"\n",
    "        },\n",
    "        \"appointmentTookPlaceIn\": {\n",
    "            \"name\": \"Nome\",\n",
    "            \"address\": \"Rua das Flores, 137\",\n",
    "            \"neighbourhood\": \"Bairro\",\n",
    "            \"city\": \"Cidade\",\n",
    "            \"uf\": \"PB\",\n",
    "            \"phone\": \"110000000\"\n",
    "        }\n",
    "    }\n",
    "}\n",
    "\n",
    "p = {'codigo': '12314',\n",
    " 'consultant': {'name': 'Kleber', 'age': '30', 'gender': 'masculino'},\n",
    " 'prescriptions': [{'name': 'Wellbutrin',\n",
    "   'dosage': '20mg',\n",
    "   'posology': 'tomar depois do café da manhã'},\n",
    "  {'name': 'Dipirona', 'dosage': '10mg', 'posology': 'duas vezes ao dia'}],\n",
    " 'doctor': {'name': 'Médico Silva', 'crm': '1231231', 'uf': 'PB'},\n",
    " 'appointmentTookPlaceIn': {'name': 'Nome',\n",
    "  'address': 'Rua das Flores, 137',\n",
    "  'neighbourhood': 'Bairro',\n",
    "  'city': 'Cidade',\n",
    "  'uf': 'PB',\n",
    "  'phone': '11999999999'}}\n",
    "\n",
    "# Generate a PDF from our notebook\n",
    "output_path = os.path.join(wisecare_path, \"output/Kleber_prescription.pdf\")\n",
    "result = generate_prescription({\"prescription\" : p }, output_path)\n",
    "print(f\"Prescription for Filo Gomes generated at: {result}\")\n",
    "\n",
    "# You could also use prescription_payload from the notebook\n",
    "# Just pass it to generate_prescription \n",
    "# result = generate_prescription({\"prescription\": prescription_payload}, output_path)"
   ]
  },
  {
   "cell_type": "markdown",
   "metadata": {},
   "source": [
    "# **TEST WISECARE API GENERATE MEDICAL EXAM REQUEST**"
   ]
  },
  {
   "cell_type": "code",
   "execution_count": null,
   "metadata": {},
   "outputs": [],
   "source": [
    "from agent import LLMExamRequest, ExamRequest\n",
    "from agent import GENERATE_EXAM_REQUEST_PROMPT"
   ]
  },
  {
   "cell_type": "code",
   "execution_count": 5,
   "metadata": {},
   "outputs": [],
   "source": [
    "\n",
    "\n",
    "model = ChatOpenAI(model = \"gpt-4o-mini\", temperature = 0)\n",
    "model = model.with_structured_output(LLMExamRequest)"
   ]
  },
  {
   "cell_type": "code",
   "execution_count": 7,
   "metadata": {},
   "outputs": [
    {
     "name": "stdout",
     "output_type": "stream",
     "text": [
      "consultant='Jorge' clinicalIndication='Dor abdominal no hipocôndrio direito' request='Ultrassonografia de abdome total'\n"
     ]
    }
   ],
   "source": [
    "user_input = \"Solicito ultrassonografia de abdome total devido a dor abdominal no hipocôndrio direito. paciente = Jorge\"\n",
    "response = model.invoke( GENERATE_EXAM_REQUEST_PROMPT.format(input = user_input, conversation_history = \"\"))\n",
    "print(response)"
   ]
  },
  {
   "cell_type": "code",
   "execution_count": null,
   "metadata": {},
   "outputs": [],
   "source": [
    "import sys\n",
    "import os\n",
    "from datetime import datetime\n",
    "from python_wrapper import generate_exam_request\n",
    "# PYDANTIC CLASS FOR EMAM REQUEST PAYLOAD\n",
    "\n",
    "\n",
    "\n",
    "\n",
    "# Add the path to the wisecare-prescription directory\n",
    "wisecare_path = \"/Users/robertagarcia/Desktop/learning/LangGraph/langgraph_personal/NodeInterrupt/medical-assistant/wisecare-prescription\"\n",
    "sys.path.append(wisecare_path)\n"
   ]
  },
  {
   "cell_type": "code",
   "execution_count": 13,
   "metadata": {},
   "outputs": [
    {
     "data": {
      "text/plain": [
       "{'images': {'logo': 'https://minio.homolog.v4h.cloud/public/IntellidoctorLogo.png'},\n",
       " 'colors': {'header': '#0A7BED',\n",
       "  'footer': {'primary': '#0A7BED', 'secondary': '#054586'},\n",
       "  'title': '#CF0014',\n",
       "  'text': {'gray100': '#EFEFEF',\n",
       "   'gray200': '#DBDBDB',\n",
       "   'gray300': '#7A7A7A',\n",
       "   'gray400': '#303030',\n",
       "   'blue': '#0A7BED'},\n",
       "  'background': '#ffffff'},\n",
       " 'links': {'validationUrl': 'https://receita.v4h.cloud'}}"
      ]
     },
     "execution_count": 13,
     "metadata": {},
     "output_type": "execute_result"
    }
   ],
   "source": [
    "skin_info = SkinInfo().model_dump()\n",
    "skin_info"
   ]
  },
  {
   "cell_type": "code",
   "execution_count": 14,
   "metadata": {},
   "outputs": [
    {
     "data": {
      "text/plain": [
       "{'consultant': 'Jorge',\n",
       " 'codigo': 'EX12345',\n",
       " 'clinicalIndication': 'Dor abdominal no hipocôndrio direito',\n",
       " 'request': 'Ultrassonografia de abdome total',\n",
       " 'doctor': {'name': 'Médico Silva', 'crm': '1231231', 'uf': 'PB'},\n",
       " 'appointmentTookPlaceIn': {'name': 'Nome',\n",
       "  'address': 'Rua das Flores, 137',\n",
       "  'neighbourhood': 'Bairro',\n",
       "  'city': 'Cidade',\n",
       "  'uf': 'PB',\n",
       "  'phone': '11999999999'},\n",
       " 'dateOfEmission': '27/03/2025'}"
      ]
     },
     "execution_count": 14,
     "metadata": {},
     "output_type": "execute_result"
    }
   ],
   "source": [
    "\n",
    "exam_request_payload = ExamRequest(\n",
    "      consultant = response.model_dump().get(\"consultant\"),\n",
    "      clinicalIndication = response.model_dump().get(\"clinicalIndication\"),\n",
    "      request = response.model_dump().get(\"request\"),\n",
    "      doctor =  Doctor(),\n",
    "      appointmentTookPlaceIn = AppointmentTookPlaceIn(),\n",
    "      dateOfEmission = datetime.today().strftime(\"%d/%m/%Y\")\n",
    "\n",
    ")\n",
    "\n",
    "exam_request_payload = exam_request_payload.model_dump()\n",
    "exam_request_payload"
   ]
  },
  {
   "cell_type": "code",
   "execution_count": 15,
   "metadata": {},
   "outputs": [
    {
     "name": "stdout",
     "output_type": "stream",
     "text": [
      "Exam request generated and saved to /Users/robertagarcia/Desktop/learning/LangGraph/langgraph_personal/NodeInterrupt/medical-assistant/wisecare-prescription/output/jupyter_test_exam_request_2.pdf\n"
     ]
    }
   ],
   "source": [
    "output_path = os.path.join(wisecare_path, \"output/jupyter_test_exam_request_2.pdf\")\n",
    "result = generate_exam_request(exam_request_payload, output_path, skin_info = skin_info)"
   ]
  },
  {
   "cell_type": "code",
   "execution_count": null,
   "metadata": {},
   "outputs": [],
   "source": [
    "exam_request_payload = {\n",
    "        \"consultant\": \"Maria Silva\",\n",
    "        \"codigo\": \"EX12345\",\n",
    "        \"clinicalIndication\": \"Acompanhamento de rotina\",\n",
    "        \"request\": \"Hemograma completo, Perfil lipídico, Glicemia de jejum, TSH, T4 livre\",\n",
    "        \"doctor\": {\n",
    "            \"name\": \"Dra. Ana Carvalho\",\n",
    "            \"crm\": \"54321\",\n",
    "            \"uf\": \"SP\"\n",
    "        },\n",
    "        \"appointmentTookPlaceIn\": {\n",
    "            \"name\": \"Centro Médico Esperança\",\n",
    "            \"address\": \"Avenida Paulista, 1000\",\n",
    "            \"neighbourhood\": \"Bela Vista\",\n",
    "            \"city\": \"São Paulo\",\n",
    "            \"uf\": \"SP\",\n",
    "            \"phone\": \"1198765432\"\n",
    "        },\n",
    "        \"dateOfEmission\": \"01/06/2023\"\n",
    "    }"
   ]
  }
 ],
 "metadata": {
  "kernelspec": {
   "display_name": "base",
   "language": "python",
   "name": "python3"
  },
  "language_info": {
   "codemirror_mode": {
    "name": "ipython",
    "version": 3
   },
   "file_extension": ".py",
   "mimetype": "text/x-python",
   "name": "python",
   "nbconvert_exporter": "python",
   "pygments_lexer": "ipython3",
   "version": "3.11.9"
  }
 },
 "nbformat": 4,
 "nbformat_minor": 2
}
